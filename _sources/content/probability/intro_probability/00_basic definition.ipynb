{
 "cells": [
  {
   "cell_type": "markdown",
   "metadata": {},
   "source": [
    "# Basic Definitions"
   ]
  },
  {
   "cell_type": "markdown",
   "metadata": {},
   "source": [
    "## Experiments/Outcomes\n",
    "\n",
    "An experiment generates an outcome from a pre-determined list. For example, a dice roll generates outcomes in the set $\\{1, 2, 3, 4, 5, 6\\}$\n",
    "\n",
    "## Sample Space\n",
    "\n",
    "The sample space, denoted $\\Omega$, is the set of possible outcomes. Note that the probability of this event is 1, since something in the sample space will always occur.\n",
    "## Event\n",
    "\n",
    "An event is a subset of the sample space, or a collection of possible outcomes of an experiment. We say that the event has occurred if any of the outcomes in the event have happened."
   ]
  },
  {
   "cell_type": "markdown",
   "metadata": {},
   "source": [
    "## Naive Definition of Probability\n",
    "If all outcomes are equally likely, the probability of an event $A$ happening is:\n",
    "\n",
    "$$\n",
    "P_{\\textrm{naive}}(A) = \\frac{\\textnormal{number of outcomes favorable to $A$}}{\\textnormal{number of outcomes}}\n",
    "$$"
   ]
  },
  {
   "cell_type": "markdown",
   "metadata": {},
   "source": []
  }
 ],
 "metadata": {
  "language_info": {
   "name": "python"
  },
  "orig_nbformat": 4
 },
 "nbformat": 4,
 "nbformat_minor": 2
}
