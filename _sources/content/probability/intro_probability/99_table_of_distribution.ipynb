{
 "cells": [
  {
   "cell_type": "markdown",
   "metadata": {},
   "source": [
    "# Table of Distributions"
   ]
  },
  {
   "cell_type": "markdown",
   "metadata": {},
   "source": [
    "\n",
    "|Distribution |PMF/PDF and Support |Expected Value| Variance |MGF|\n",
    "|:-:|:-:|:-:|:-:|:-:|\n",
    "{Bernoulli \\\\ \\Bern($p$)} | {$P(X=1) = p$ \\\\$ P(X=0) = q=1-p$} | $p$ | $pq$ | $q + pe^t$|\n",
    "{Binomial \\\\ \\Bin($n, p$)} | {$P(X=k) = {n \\choose k}p^k q^{n-k}$  \\\\ $k \\in \\{0, 1, 2, \\dots n\\}$}| $np$ | $npq$ | $(q + pe^t)^n$ |\n",
    "{Geometric \\\\ \\Geom($p$)} | {$P(X=k) = q^kp$  \\\\ $k \\in \\{$0, 1, 2, \\dots $\\}$}| $q/p$ | $q/p^2$ | $\\frac{p}{1-qe^t}, \\, qe^t < 1$|\n",
    "{Negative Binomial \\\\ \\NBin($r, p$)} | {$P(X=n) = {r + n - 1 \\choose r -1}p^rq^n$ \\\\ $n \\in \\{$0, 1, 2, \\dots $\\}$} | $rq/p$ | $rq/p^2$ |  $(\\frac{p}{1-qe^t})^r, \\, qe^t < 1$|\n",
    "{Hypergeometric \\\\ \\Hypergeometric($w, b, n$)} | {$P(X=k) = \\sfrac{{w \\choose k}{b \\choose n-k}}{{w + b \\choose n}}$ \\\\ $k \\in \\{0, 1, 2, \\dots,  n\\}$} | $\\mu = \\frac{nw}{b+w}$ |$\\left(\\frac{w+b-n}{w+b-1} \\right) n\\frac{\\mu}{n}(1 - \\frac{\\mu}{n})$| messy|\n",
    "{Poisson \\\\ \\Pois($\\lambda$)} | {$P(X=k) = \\frac{e^{-\\lambda}\\lambda^k}{k!}$ \\\\ $k \\in \\{$0, 1, 2, \\dots $\\}$} | $\\lambda$ | $\\lambda$ | $e^{\\lambda(e^t-1)}$|\n",
    "{Uniform \\\\ \\Unif($a, b$)} | {$ f(x) = \\frac{1}{b-a}$ \\\\$ x \\in (a, b) $} | $\\frac{a+b}{2}$ | $\\frac{(b-a)^2}{12}$ |  $\\frac{e^{tb}-e^{ta}}{t(b-a)}$|\n",
    "{Normal \\\\ $\\N(\\mu, \\sigma^2)$} | {$f(x) = \\frac{1}{\\sigma \\sqrt{2\\pi}} e^{-\\sfrac{(x - \\mu)^2}{(2 \\sigma^2)}}$ \\\\ $x \\in (-\\infty, \\infty)$} | $\\mu$  | $\\sigma^2$ | $e^{t\\mu + \\frac{\\sigma^2t^2}{2}}$|\n",
    "{Exponential \\\\ $\\Expo(\\lambda)$} | {$f(x) = \\lambda e^{-\\lambda x}$\\\\$ x \\in (0, \\infty)$} | $\\frac{1}{\\lambda}$  | $\\frac{1}{\\lambda^2}$ | $\\frac{\\lambda}{\\lambda - t}, \\, t < \\lambda$|\n",
    "{Gamma \\\\ $\\Gam(a, \\lambda)$} | {$f(x) = \\frac{1}{\\Gamma(a)}(\\lambda x)^ae^{-\\lambda x}\\frac{1}{x}$\\\\$ x \\in (0, \\infty)$} | $\\frac{a}{\\lambda}$  | $\\frac{a}{\\lambda^2}$ | $\\left(\\frac{\\lambda}{\\lambda - t}\\right)^a, \\, t < \\lambda$|\n",
    "{Beta \\\\ \\Beta($a, b$)} | {$f(x) = \\frac{\\Gamma(a+b)}{\\Gamma(a)\\Gamma(b)}x^{a-1}(1-x)^{b-1}$\\\\$x \\in (0, 1) $} | $\\mu = \\frac{a}{a + b}$  | $\\frac{\\mu(1-\\mu)}{(a + b + 1)}$ | messy|\n",
    "{Log-Normal \\\\ $\\mathcal{LN}(\\mu,\\sigma^2)$} | {$\\frac{1}{x\\sigma \\sqrt{2\\pi}}e^{-(\\log x - \\mu)^2/(2\\sigma^2)}$\\\\$x \\in (0, \\infty)$} | $\\theta = e^{ \\mu + \\sigma^2/2}$ | $\\theta^2 (e^{\\sigma^2} - 1)$ | doesn't exist|\n",
    "{Chi-Square \\\\ $\\chi_n^2$} | {$\\frac{1}{2^{n/2}\\Gamma(n/2)}x^{n/2 - 1}e^{-x/2}$\\\\$x \\in (0, \\infty) $} | $n$  | $2n$ | $(1 - 2t)^{-n/2}, \\, t < 1/2$|\n",
    "{Student-$t$ \\\\ $t_n$} | {$\\frac{\\Gamma((n+1)/2)}{\\sqrt{n\\pi} \\Gamma(n/2)} (1+x^2/n)^{-(n+1)/2}$\\\\$x \\in (-\\infty, \\infty)$} | $0$ if $n>1$ | $\\frac{n}{n-2}$ if $n>2$ | doesn't exist|"
   ]
  },
  {
   "cell_type": "markdown",
   "metadata": {},
   "source": []
  }
 ],
 "metadata": {
  "kernelspec": {
   "display_name": "Python 3.9.5 ('base')",
   "language": "python",
   "name": "python3"
  },
  "language_info": {
   "name": "python",
   "version": "3.9.5"
  },
  "orig_nbformat": 4,
  "vscode": {
   "interpreter": {
    "hash": "c96c929cd44cbfb83c61d0a24797df5d65008c381a130fe7ec7b20b72344b911"
   }
  }
 },
 "nbformat": 4,
 "nbformat_minor": 2
}
