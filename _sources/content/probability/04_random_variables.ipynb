{
 "cells": [
  {
   "cell_type": "markdown",
   "metadata": {},
   "source": [
    "# Random Variables"
   ]
  },
  {
   "cell_type": "markdown",
   "metadata": {},
   "source": [
    "A real-valued function defined on the outcome of a probability experiment is called a random variable.\n",
    "\n",
    "If $X$ is a random variable, then the function $F(x)$ defined by\n",
    "\n",
    "$$\n",
    "F(x)=P\\{X \\leq x\\}\n",
    "$$\n",
    "\n",
    "is called the distribution function of $X$. All probabilities concerning $X$ can be stated in terms of $F$. A random variable whose set of possible values is either finite or countably infinite is called discrete. If $X$ is a discrete random variable, then the function\n",
    "\n",
    "$$\n",
    "p(x)=P\\{X=x\\}\n",
    "$$\n",
    "\n"
   ]
  },
  {
   "cell_type": "markdown",
   "metadata": {},
   "source": [
    "## Expectation\n",
    "$E[X]$ defined by\n",
    "\n",
    "$$\n",
    "E[X]=\\sum_{x: p(x)>0} x p(x)\n",
    "$$\n",
    "\n",
    "is called the expected value of $X . E[X]$ is also commonly called the mean or the expectation of $X$.\n",
    "\n",
    "A useful identity states that, for a function $g$,\n",
    "\n",
    "$$\n",
    "E[g(X)]=\\sum_{x: p(x)>0} g(x) p(x)\n",
    "$$\n"
   ]
  },
  {
   "cell_type": "markdown",
   "metadata": {},
   "source": [
    "## Properties of Expectation\n",
    "\n",
    "The expected value of a sum of random variables is equal to the sum of their expected values. That is,\n",
    "\n",
    "$$\n",
    "E\\left[\\sum_{i=1}^{n} X_{i}\\right]=\\sum_{i=1}^{n} E\\left[X_{i}\\right]\n",
    "$$"
   ]
  },
  {
   "cell_type": "markdown",
   "metadata": {},
   "source": [
    "## Variance \n",
    "Variance of a random variable $X$, denoted by $\\operatorname{Var}(X)$, is defined by\n",
    "\n",
    "$$\n",
    "\\operatorname{Var}(X)=E\\left[(X-E[X])^{2}\\right]\n",
    "$$\n",
    "\n",
    "The variance, which is equal to the expected square of the difference between $X$ and its expected value, is a measure of the spread of the possible values of $X$. A useful identity is\n",
    "\n",
    "$$\n",
    "\\operatorname{Var}(X)=E\\left[X^{2}\\right]-(E[X])^{2}\n",
    "$$\n",
    "\n",
    "## Standard Deviation ($\\sigma$)\n",
    "The quantity $\\sqrt{\\operatorname{Var}(X)}$ is called the standard deviation of $X$."
   ]
  },
  {
   "cell_type": "markdown",
   "metadata": {},
   "source": [
    "## Binomial (Binom($n$, $p$))\n",
    "The random variable X whose probability mass function is given by\n",
    "\n",
    "$$\n",
    "p(i)=\\left(\\begin{array}{c}\n",
    "n \\\\\n",
    "i\n",
    "\\end{array}\\right) p^{i}(1-p)^{n-i} \\quad i=0, \\ldots, n\n",
    "$$\n",
    "\n",
    "is said to be a binomial random variable with parameters $n$ and $p$. Such a random variable can be interpreted as being the number of successes that occur when $n$ independent trials, each of which results in a success with probability $p$, are performed. Its mean and variance are given by\n",
    "\n",
    "$$\n",
    "E[X]=n p \\quad \\operatorname{Var}(X)=n p(1-p)\n",
    "$$"
   ]
  },
  {
   "cell_type": "markdown",
   "metadata": {},
   "source": [
    "## Poisson \n",
    "\n",
    "The random variable $X$ whose probability mass function is given by\n",
    "\n",
    "$$\n",
    "p(i)=\\frac{e^{-\\lambda} \\lambda^{i}}{i !} \\quad i \\geq 0\n",
    "$$\n",
    "\n",
    "is said to be a Poisson random variable with parameter $\\lambda$. If a large number of (approximately) independent trials are performed, each having a small probability of being successful, then the number of successful trials that result will have a distribution which is approximately that of a Poisson random variable. \n",
    "\n",
    "The mean and variance of a Poisson random variable are both equal to its parameter $\\lambda$. That is,\n",
    "\n",
    "$$\n",
    "E[X]=\\operatorname{Var}(X)=\\lambda\n",
    "$$"
   ]
  },
  {
   "cell_type": "markdown",
   "metadata": {},
   "source": [
    "## Geometric\n",
    "\n",
    "The random variable $X$ whose probability mass function is given by\n",
    "\n",
    "$$\n",
    "p(i)=p(1-p)^{i-1} \\quad i=1,2, \\ldots\n",
    "$$\n",
    "\n",
    "is said to be a geometric random variable with parameter $p$. Such a random variable represents the trial number of the first success when each trial is independently a success with probability $p$. Its mean and variance are given by\n",
    "\n",
    "$$\n",
    "E[X]=\\frac{1}{p} \\quad \\operatorname{Var}(X)=\\frac{1-p}{p^{2}}\n",
    "$$"
   ]
  },
  {
   "cell_type": "markdown",
   "metadata": {},
   "source": [
    "## Negative binomial\n",
    "\n",
    "The random variable $X$ whose probability mass function is given by\n",
    "\n",
    "$$\n",
    "p(i)=\\left(\\begin{array}{l}\n",
    "i-1 \\\\\n",
    "r-1\n",
    "\\end{array}\\right) p^{r}(1-p)^{i-r} \\quad i \\geq r\n",
    "$$\n",
    "\n",
    "is said to be a negative binomial random variable with parameters $r$ and $p$. Such a random variable represents the trial number of the $r$ th success when each trial is independently a success with probability $p$. Its mean and variance are given by\n",
    "\n",
    "$$\n",
    "E[X]=\\frac{r}{p} \\quad \\operatorname{Var}(X)=\\frac{r(1-p)}{p^{2}}\n",
    "$$"
   ]
  },
  {
   "cell_type": "markdown",
   "metadata": {},
   "source": [
    "## Hypergeometric\n",
    "\n",
    "A *hypergeometric* random variable $X$ with parameters $n, N$, and $m$ represents the number of white balls selected when $n$ balls are randomly chosen from an urn that contains $N$ balls of which $m$ are white. The probability mass function of this random variable is given by\n",
    "\n",
    "$$\n",
    "p(i)=\\frac{\\left(\\begin{array}{c}\n",
    "m \\\\\n",
    "i\n",
    "\\end{array}\\right)\\left(\\begin{array}{c}\n",
    "N-m \\\\\n",
    "n-i\n",
    "\\end{array}\\right)}{\\left(\\begin{array}{c}\n",
    "N \\\\\n",
    "n\n",
    "\\end{array}\\right)} \\quad i=0, \\ldots, m\n",
    "$$\n",
    "\n",
    "With $p=m / N$, its mean and variance are\n",
    "\n",
    "$$\n",
    "E[X]=n p \\quad \\operatorname{Var}(X)=\\frac{N-n}{N-1} n p(1-p)\n",
    "$$"
   ]
  },
  {
   "cell_type": "markdown",
   "metadata": {},
   "source": []
  }
 ],
 "metadata": {
  "language_info": {
   "name": "python"
  },
  "orig_nbformat": 4
 },
 "nbformat": 4,
 "nbformat_minor": 2
}
