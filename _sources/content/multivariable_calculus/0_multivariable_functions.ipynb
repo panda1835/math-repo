{
 "cells": [
  {
   "cell_type": "markdown",
   "metadata": {},
   "source": [
    "# Functions"
   ]
  },
  {
   "cell_type": "markdown",
   "metadata": {},
   "source": [
    "## Lines, regions and surfaces\n",
    "\n",
    "We know that in $\\boldsymbol{R}^{2}$,\n",
    "- a single Cartesian equation represents a line or curve, e.g. $x=2, y=2 x+1, x^{2}+y^{2}=9$\n",
    "- a single inequality represents a region, e.g. $x>2, x^{2}+y^{2} \\leq 1$\n",
    "- two equations represent the intersection of two curves, usually a point, e.g. $x=2$ and $y=2 x+1$ at the point $x=2, y=5$.\n",
    "  \n",
    "In $R^{3}$\n",
    "- a single equation represents a surface\n",
    "- a single inequality represents a region\n",
    "- two equations represent the intersection of two surfaces, usually a curve."
   ]
  },
  {
   "cell_type": "markdown",
   "metadata": {},
   "source": [
    "## Traces and Level Curves"
   ]
  },
  {
   "cell_type": "markdown",
   "metadata": {},
   "source": [
    "\n",
    "- A trace is the cross-section of a surface with a plane.\n",
    "- For a surface $z=f(x, y)$ we commonly consider vertical traces:\n",
    "  - curves on which $x=c_{1}$ and $z(y)=f\\left(c_{1}, y\\right)$\n",
    "  - curves on which $y=c_{2}$ and $z(x)=f\\left(x, c_{2}\\right)$.\n",
    "- Horizontal traces $z=f(x, y)=k$ are more often called level curves or contours.\n",
    "Note that if we lift contours and plot them at the appropriate heights, we get a picture of the surface itself."
   ]
  },
  {
   "cell_type": "markdown",
   "metadata": {},
   "source": [
    "```{image} ../../media/mvc/fu/img2.png\n",
    ":alt: Thomas's Calculus\n",
    ":class: bg-primary mb-1\n",
    ":height: 400px\n",
    ":align: center\n",
    "```"
   ]
  },
  {
   "cell_type": "markdown",
   "metadata": {},
   "source": [
    "The set of points in the plane where a function $f(x, y)$ has a constant value $f(x, y) = c$ is called a **level curve** of $f$. The set of all points $(x, y, f(x, y))$ in space, for $(x, y)$ in the domain of $f$, is called the graph of $f$. The graph of $f$ is also called the surface $z = f(x, y)$."
   ]
  },
  {
   "cell_type": "markdown",
   "metadata": {},
   "source": [
    "```{image} ../../media/mvc/fu/img1.jpeg\n",
    ":alt: Thomas's Calculus\n",
    ":class: bg-primary mb-1\n",
    ":height: 200px\n",
    ":align: center\n",
    "```"
   ]
  },
  {
   "cell_type": "markdown",
   "metadata": {},
   "source": [
    "## Functions of more variables"
   ]
  },
  {
   "cell_type": "markdown",
   "metadata": {},
   "source": [
    "- A function $f$ of three independent variables is a rule that assigns to each ordered triple $(x, y, z)$ in a domain $D$ exactly one real number $f(x, y, z)$ in a set $R$.\n",
    "- A function $f$ of $n$ independent variables is a rule that assigns to each ordered $n$-tuple $\\left(x_{1}, x_{2}, \\ldots x_{n}\\right)$ in a domain $D$ exactly one real number $f\\left(x_{1}, x_{2}, \\ldots x_{n}\\right)$ in a set $R$."
   ]
  },
  {
   "cell_type": "markdown",
   "metadata": {},
   "source": [
    "## Limits \\& Continuity"
   ]
  },
  {
   "cell_type": "markdown",
   "metadata": {},
   "source": [
    "\n",
    "- Notions of limits and continuity are generally similar to the one-variable case except that a point in $R^{2}$ can be approached along an infinite number of different paths.\n",
    "- If $\\lim _{(x, y) \\rightarrow(a, b)} f(x, y)$ takes different values as $(a, b)$ is approached along two different paths then the limit does not exist.\n",
    "- $f(x, y)$ is continuous at $(a, b)$ if and only if $\\lim _{(x, y) \\rightarrow(a, b)} f(x, y)=f(a, b)$.\n",
    "- Graphically, a function is continuous where the surface has no break, hole or jump. For more details, see textbooks (or work on your own through Active Calculus 10.1)"
   ]
  }
 ],
 "metadata": {
  "kernelspec": {
   "display_name": "Python 3.9.5 ('base')",
   "language": "python",
   "name": "python3"
  },
  "language_info": {
   "name": "python",
   "version": "3.9.5"
  },
  "orig_nbformat": 4,
  "vscode": {
   "interpreter": {
    "hash": "c96c929cd44cbfb83c61d0a24797df5d65008c381a130fe7ec7b20b72344b911"
   }
  }
 },
 "nbformat": 4,
 "nbformat_minor": 2
}
