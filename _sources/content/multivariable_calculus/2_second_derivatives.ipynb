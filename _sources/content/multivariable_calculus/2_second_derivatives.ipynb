{
 "cells": [
  {
   "cell_type": "markdown",
   "metadata": {},
   "source": [
    "# Second Derivatives and Chain Rule"
   ]
  },
  {
   "cell_type": "markdown",
   "metadata": {},
   "source": [
    "## Second Derivatives"
   ]
  },
  {
   "cell_type": "markdown",
   "metadata": {},
   "source": [
    "A function $f(x, y)$ has four partial derivatives:\n",
    "\n",
    "$\\left(f_{x}\\right)_{x}=f_{x x}=\\frac{\\partial}{\\partial x}\\left(\\frac{\\partial f}{\\partial x}\\right)=\\frac{\\partial^{2} f}{\\partial x^{2}}$\n",
    "\n",
    "$\\left(f_{x}\\right)_{y}=f_{x y}=\\frac{\\partial}{\\partial y}\\left(\\frac{\\partial f}{\\partial x}\\right)=\\frac{\\partial^{2} f}{\\partial y \\partial x}$\n",
    "\n",
    "$\\left(f_{y}\\right)_{x}=f_{y x}=\\frac{\\partial}{\\partial x}\\left(\\frac{\\partial f}{\\partial y}\\right)=\\frac{\\partial^{2} f}{\\partial x \\partial y}$\n",
    "\n",
    "$\\left(f_{y}\\right)_{y}=f_{y y}=\\frac{\\partial}{\\partial y}\\left(\\frac{\\partial f}{\\partial y}\\right)=\\frac{\\partial^{2} f}{\\partial y^{2}}$"
   ]
  },
  {
   "cell_type": "markdown",
   "metadata": {},
   "source": [
    "## Clairaut's Theorem"
   ]
  },
  {
   "cell_type": "markdown",
   "metadata": {},
   "source": [
    "Let $f$ be a function of several variables for which the partial derivatives $f_{x y}$ and $f_{y x}$ are continuous near the point $(a, b)$. Then\n",
    "$$\n",
    "f_{x y}(a, b)=f_{y x}(a, b) .\n",
    "$$\n",
    "Extensions of Clairaut's theorem apply to higher partial derivatives and to functions of more variables. For example, for $f(x, y)$ provided all the derivatives are continuous, we also have\n",
    "$$\n",
    "f_{x y z}=f_{x z y}=f_{y x z}=f_{y z x}=f_{z x y}=f_{z y x}\n",
    "$$"
   ]
  },
  {
   "cell_type": "markdown",
   "metadata": {},
   "source": [
    "## The Chain Rule (2 Variables)"
   ]
  },
  {
   "cell_type": "markdown",
   "metadata": {},
   "source": [
    "If $z=f(x, y)$ where $x=g(t)$ and $y=h(t)$, then\n",
    "$$\n",
    "\\frac{d z}{d t}=\\frac{\\partial z}{\\partial x} \\frac{d x}{d t}+\\frac{\\partial z}{\\partial y} \\frac{d y}{d t}\n",
    "$$\n",
    "(provided the derivatives exist)."
   ]
  },
  {
   "cell_type": "markdown",
   "metadata": {},
   "source": [
    "### Tree Diagrams"
   ]
  },
  {
   "cell_type": "markdown",
   "metadata": {},
   "source": [
    "Chain rule can be helpfully represented using a tree diagram.\n",
    "\n",
    "Note: Note carefully which derivatives are partial derivatives and which are ordinary derivatives.\n",
    "\n",
    "![image](../../media/mvc/sd/img2.jpg)"
   ]
  },
  {
   "cell_type": "markdown",
   "metadata": {},
   "source": [
    "## The Chain Rule (General Version)"
   ]
  },
  {
   "cell_type": "markdown",
   "metadata": {},
   "source": [
    "If $z=f\\left(x_{1}, x_{2}, \\ldots, x_{n}\\right)$ and $x_{i}=g\\left(t_{1}, t_{2}, \\ldots, t_{m}\\right)$ then\n",
    "$$\n",
    "\\frac{\\partial z}{\\partial t_{j}}=\\frac{\\partial z}{\\partial x_{1}} \\frac{\\partial x_{1}}{\\partial t_{j}}+\\frac{\\partial z}{\\partial x_{2}} \\frac{\\partial x_{2}}{\\partial t_{j}}+\\ldots+\\frac{\\partial z}{\\partial x_{n}} \\frac{\\partial x_{n}}{\\partial t_{j}}\n",
    "$$\n",
    "(provided the derivatives exist)."
   ]
  },
  {
   "cell_type": "markdown",
   "metadata": {},
   "source": [
    "## Implicit Differentiation"
   ]
  },
  {
   "cell_type": "markdown",
   "metadata": {},
   "source": [
    "- If $F(x, y)$ is differentiable and the equation $F(x, y)=0$ defines $y$ as a differentiable function of $x$, then at any point where $F_{y} \\neq 0$,\n",
    "$$\n",
    "\\frac{d y}{d x}=-\\frac{\\frac{\\partial F}{\\partial x}}{\\frac{\\partial F}{\\partial y}}=-\\frac{F_{x}}{F_{y}}\n",
    "$$\n",
    "\n",
    "  - If $F(x, y, z)$ is differentiable and $F(x, y, z)=0$ defines $z$ as a differentiable function of $x$ and $y$, then at any point where $F_{z} \\neq 0$,\n",
    "$$\n",
    "\\frac{\\partial z}{\\partial x}=-\\frac{\\frac{\\partial F}{\\partial x}}{\\frac{\\partial F}{\\partial z}}=-\\frac{F_{x}}{F_{z}} \\quad \\text { and } \\quad \\frac{\\partial z}{\\partial y}=-\\frac{\\frac{\\partial F}{\\partial y}}{\\frac{\\partial F}{\\partial z}}=-\\frac{F_{y}}{F_{z}} .\n",
    "$$"
   ]
  },
  {
   "cell_type": "markdown",
   "metadata": {},
   "source": []
  }
 ],
 "metadata": {
  "kernelspec": {
   "display_name": "Python 3.9.5 ('base')",
   "language": "python",
   "name": "python3"
  },
  "language_info": {
   "name": "python",
   "version": "3.9.5"
  },
  "orig_nbformat": 4,
  "vscode": {
   "interpreter": {
    "hash": "c96c929cd44cbfb83c61d0a24797df5d65008c381a130fe7ec7b20b72344b911"
   }
  }
 },
 "nbformat": 4,
 "nbformat_minor": 2
}
