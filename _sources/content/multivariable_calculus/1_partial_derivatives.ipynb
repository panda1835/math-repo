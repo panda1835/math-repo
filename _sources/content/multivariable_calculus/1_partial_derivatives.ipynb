{
 "cells": [
  {
   "cell_type": "markdown",
   "metadata": {},
   "source": [
    "# Partial Derivatives"
   ]
  },
  {
   "cell_type": "markdown",
   "metadata": {},
   "source": [
    "## Definition\n"
   ]
  },
  {
   "cell_type": "markdown",
   "metadata": {},
   "source": [
    "The partial derivatives of a function $f(x, y)$ are:\n",
    "$$\n",
    "f_{x}(x, y)=\\lim _{h \\rightarrow 0} \\frac{f(x+h, y)-f(x, y)}{h}, \\quad f_{y}(x, y)=\\lim _{h \\rightarrow 0} \\frac{f(x, y+h)-f(x, y)}{h}\n",
    "$$\n",
    "\n",
    "- To find $f_{x}$ we differentiate $f(x, y)$ with respect to $x$, treating $y$ as a constant.\n",
    "- To find $f_{y}$ we differentiate $f(x, y)$ with respect to $y$, treating $x$ as a constant.\n",
    "\n",
    "Alternative notations for the partial derivatives of $z=f(x, y)$ are\n",
    "$$\n",
    "\\begin{aligned}\n",
    "&f_{x}(x, y)=f_{x}=\\frac{\\partial f}{\\partial x}=\\frac{\\partial}{\\partial x} f(x, y)=z_{x}=\\frac{\\partial z}{\\partial x} \\\\\n",
    "&f_{y}(x, y)=f_{y}=\\frac{\\partial f}{\\partial y}=\\frac{\\partial}{\\partial y} f(x, y)=z_{y}=\\frac{\\partial z}{\\partial y}\n",
    "\\end{aligned}\n",
    "$$"
   ]
  },
  {
   "cell_type": "markdown",
   "metadata": {},
   "source": [
    "## Partial derivatives of more variables"
   ]
  },
  {
   "cell_type": "markdown",
   "metadata": {},
   "source": [
    "Partial derivatives of functions of three or more variables are defined in a similar way. For example, for $f(x, y, z)$ we have\n",
    "$$\n",
    "f_{x}(x, y, z)=\\lim _{h \\rightarrow 0} \\frac{f(x+h, y, z)-f(x, y, z)}{h}\n",
    "$$\n",
    "- To find $f_{x}(x, y, z)$ we differentiate $f(x, y, z)$ with respect to $x$, treating $y$ and $z$ as constants."
   ]
  },
  {
   "cell_type": "markdown",
   "metadata": {},
   "source": [
    "## Tangent plane to the surface $z=f(x, y)$ at the point $(a, b)$"
   ]
  },
  {
   "cell_type": "markdown",
   "metadata": {},
   "source": [
    "If $f$ is continuous and differentiable in an open disk containing the point $(a, b)$, the equation of the tangent plane is\n",
    "$$\n",
    "z=f(a, b)+f_{x}(a, b)(x-a)+f_{y}(a, b)(x-b) .\n",
    "$$"
   ]
  },
  {
   "cell_type": "markdown",
   "metadata": {},
   "source": [
    "## Linearization of $f(x, y)$ at $(a, b)$"
   ]
  },
  {
   "cell_type": "markdown",
   "metadata": {},
   "source": [
    "$$\n",
    "L(x, y)=f(a, b)+f_{x}(a, b)(x-a)+f_{y}(a, b)(y-b) .\n",
    "$$\n",
    "Near $(a, b)$ we may use the linear approximation $f(x, y) \\approx L(x, y)$."
   ]
  },
  {
   "cell_type": "markdown",
   "metadata": {},
   "source": [
    "## Differentials and Small Changes"
   ]
  },
  {
   "cell_type": "markdown",
   "metadata": {},
   "source": [
    "Recall that in single variable calculus, if we have a differentiable function $y=f(x)$ and $x$ changes by $d x=\\Delta x$ then\n",
    "\n",
    "  - the differential $d y$ is defined by $d y=f^{\\prime}(x) d x$ and is the change in the tangent line.\n",
    "\n",
    "  - the corresponding small change in the function is $\\Delta y \\approx d y$.\n",
    "\n",
    "Hence $\\Delta y \\approx f^{\\prime}(x) \\Delta x$ and $f(x+\\Delta x) \\approx f(x)+f^{\\prime}(x) d x$.\n",
    "\n",
    "Similarly, suppose we have a differentiable function $z=f(x, y)$ and that $x$ and $y$ change by amounts $d x=\\Delta x$ and $d y=\\Delta y .$\n",
    "\n",
    "  - The total differential $d z$ is defined by $d z=f_{x}(x, y) d x+f_{y}(x, y) d y=\\frac{\\partial f}{\\partial x} d x+\\frac{\\partial f}{\\partial y} d y$ and is the change in the tangent plane.\n",
    "\n",
    "  - The change in the function is $\\Delta z$. For small changes, $\\Delta z \\approx d z=f_{x} \\Delta x+f_{y} \\Delta y$ and $f(x+d x, y+d y) \\approx f(x, y)+d z=f(x, y)+f_{x}(x, y) d x+f_{y}(x, y) d y$.\n",
    "\n",
    "$$"
   ]
  },
  {
   "cell_type": "markdown",
   "metadata": {},
   "source": [
    "![image](../../media/mvc/pd/img1.jpg)"
   ]
  },
  {
   "cell_type": "markdown",
   "metadata": {},
   "source": [
    "## Extensions to higher dimensions"
   ]
  },
  {
   "cell_type": "markdown",
   "metadata": {},
   "source": [
    "Linearizations and differentials can be defined in a similar way for functions of more variables. For example, for $w=f(x, y, z)$\n",
    "\n",
    "  - the linear approximation of $f$ at $(a, b, c)$ is $f(x, y, z) \\approx L(x, y, z)=f(a, b, c)+f_{x}(a, b, c)(x-a)+f_{y}(a, b, c)(y-b)+f_{z}(a, b, c)(z-c) .$\n",
    "\n",
    "  - the differential $d w$ is $d w=f_{x} d x+f_{y} d y+f_{z} d z$.\n"
   ]
  },
  {
   "cell_type": "markdown",
   "metadata": {},
   "source": [
    "## Note on Differentiability"
   ]
  },
  {
   "cell_type": "markdown",
   "metadata": {},
   "source": [
    "Differentiability of functions of two or more variables is more complicated.\n",
    "\n",
    "  - Informally it can be said that a function $f(x, y)$ is differentiable at a point $(a, b)$ if it is wellapproximated by a linear function near that point.\n",
    "\n",
    "  - More formally, it can be proved that if the partial derivatives $f_{x}$ and $f_{y}$ exist and are continuous on a small disk centred at $(a, b)$ then $f$ is differentiable at $(a, b)$."
   ]
  },
  {
   "cell_type": "markdown",
   "metadata": {},
   "source": []
  }
 ],
 "metadata": {
  "kernelspec": {
   "display_name": "Python 3.9.5 ('base')",
   "language": "python",
   "name": "python3"
  },
  "language_info": {
   "name": "python",
   "version": "3.9.5"
  },
  "orig_nbformat": 4,
  "vscode": {
   "interpreter": {
    "hash": "c96c929cd44cbfb83c61d0a24797df5d65008c381a130fe7ec7b20b72344b911"
   }
  }
 },
 "nbformat": 4,
 "nbformat_minor": 2
}
