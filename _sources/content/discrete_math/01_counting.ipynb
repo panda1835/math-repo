{
 "cells": [
  {
   "cell_type": "markdown",
   "metadata": {},
   "source": [
    "# Counting"
   ]
  },
  {
   "cell_type": "markdown",
   "metadata": {},
   "source": [
    "Multiplication Rule\n",
    "        \n",
    "Let's say we have a compound experiment (an experiment with multiple components). If the 1st component has $n_1$ possible outcomes, the 2nd component has $n_2$ possible outcomes, $\\dots$, and the $r$-th component has $n_r$ possible outcomes, then overall there are $n_1n_2 \\dots n_r$ possibilities for the whole experiment.\n",
    " "
   ]
  },
  {
   "cell_type": "markdown",
   "metadata": {},
   "source": [
    "Sampling Table\n",
    "   \n",
    "The sampling table gives the number of possible samples of size $k$ out of a population of size $n$, under various assumptions about how the sample is collected. \n",
    "    %\\begin{table}[H]\n",
    "    \\begin{center}\n",
    "            \\setlength{\\extrarowheight}{7pt}\n",
    "        \\begin{tabular}{r|cc}\n",
    "                & \\textbf{Order Matters} & \\textbf{Not Matter} \\\\ \\hline\n",
    "            \\textbf{With Replacement} & $\\displaystyle n^k$ & $\\displaystyle{n+k-1 \\choose k}$ \\\\\n",
    "            \\textbf{Without Replacement} & $\\displaystyle\\frac{n!}{(n - k)!}$ & $\\displaystyle{n \\choose k}$\n",
    "        \\end{tabular}\n",
    "    \\end{center}\n",
    "    %\\end{table}\n",
    "% \\item[Experiments/Outcomes] - An experiment generates an outcome from a pre-determined list. For example, a dice roll generates outcomes in the set $\\{1, 2, 3, 4, 5, 6\\}$\n",
    "% \\item[Sample Space] - The sample space, denoted $\\Omega$, is the set of possible outcomes. Note that the probability of this event is 1, since something in the sample space will always occur.\n",
    "% \\item[Event] - An event is a subset of the sample space, or a collection of possible outcomes of an experiment. We say that the event has occurred if any of the outcomes in the event have happened.\n",
    "\\subsection{Naive Definition of Probability}  {If all outcomes are equally likely}, the probability of an event $A$ happening is:\n",
    "    \\[P_{\\textrm{naive}}(A) = \\frac{\\textnormal{number of outcomes favorable to $A$}}{\\textnormal{number of outcomes}}\\]"
   ]
  },
  {
   "cell_type": "markdown",
   "metadata": {},
   "source": []
  }
 ],
 "metadata": {
  "language_info": {
   "name": "python"
  },
  "orig_nbformat": 4
 },
 "nbformat": 4,
 "nbformat_minor": 2
}
