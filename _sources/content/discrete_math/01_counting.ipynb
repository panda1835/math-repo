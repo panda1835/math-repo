{
 "cells": [
  {
   "cell_type": "markdown",
   "metadata": {},
   "source": [
    "# Counting"
   ]
  },
  {
   "cell_type": "markdown",
   "metadata": {},
   "source": [
    "## Multiplication Rule\n",
    "        \n",
    "Let's say we have a compound experiment (an experiment with multiple components). If the 1st component has $n_1$ possible outcomes, the 2nd component has $n_2$ possible outcomes, $\\dots$, and the $r$-th component has $n_r$ possible outcomes, then overall there are $n_1n_2 \\dots n_r$ possibilities for the whole experiment.\n",
    " "
   ]
  },
  {
   "cell_type": "markdown",
   "metadata": {},
   "source": [
    "```{image} ../../media/discrete/counting/img1.png\n",
    ":class: bg-primary mb-1\n",
    ":height: 300px\n",
    ":align: center\n",
    "```"
   ]
  },
  {
   "cell_type": "markdown",
   "metadata": {},
   "source": [
    "## Sampling Table\n",
    "   \n",
    "The sampling table gives the number of possible samples of size $k$ out of a population of size $n$, under various assumptions about how the sample is collected.\n",
    "\n",
    "||Order Matters|Not Matters|\n",
    "|:-:|:-:|:-:|\n",
    "|**With Replacement**|$\\displaystyle n^k$|$\\displaystyle{n+k-1 \\choose k}$|\n",
    "|**Without Replacement**|$\\displaystyle\\frac{n!}{(n - k)!}$|$\\displaystyle{n \\choose k}$|"
   ]
  },
  {
   "cell_type": "markdown",
   "metadata": {},
   "source": [
    "```{figure} ../../media/discrete/counting/img2.png\n",
    ":figclass: margin\n",
    "```"
   ]
  },
  {
   "cell_type": "markdown",
   "metadata": {},
   "source": []
  }
 ],
 "metadata": {
  "kernelspec": {
   "display_name": "Python 3.9.5 ('base')",
   "language": "python",
   "name": "python3"
  },
  "language_info": {
   "name": "python",
   "version": "3.9.5"
  },
  "orig_nbformat": 4,
  "vscode": {
   "interpreter": {
    "hash": "c96c929cd44cbfb83c61d0a24797df5d65008c381a130fe7ec7b20b72344b911"
   }
  }
 },
 "nbformat": 4,
 "nbformat_minor": 2
}
