{
 "cells": [
  {
   "cell_type": "markdown",
   "metadata": {},
   "source": [
    "# Directional Derivatives and Gradient Vector"
   ]
  },
  {
   "cell_type": "markdown",
   "metadata": {},
   "source": [
    "## Gradient Vector"
   ]
  },
  {
   "cell_type": "markdown",
   "metadata": {},
   "source": [
    "For a differentiable function $f(x, y)$, the gradient vector is defined by\n",
    "\n",
    "$$\n",
    "\\vec{\\nabla} f=\\operatorname{grad} f=\\left\\langle f_{x}, f_{y}\\right\\rangle=\\frac{\\partial f}{\\partial x} \\mathbf{i}+\\frac{\\partial f}{\\partial y} \\mathbf{j}\n",
    "$$"
   ]
  },
  {
   "cell_type": "markdown",
   "metadata": {},
   "source": [
    "## Directional Derivative"
   ]
  },
  {
   "cell_type": "markdown",
   "metadata": {},
   "source": [
    "The directional derivative of $f(x, y)$ at $(a, b)$ in the direction of a unit vector $\\hat{\\boldsymbol{u}}=\\left\\langle u_{1}, u_{2}\\right\\rangle$ is, provided the limit exists,\n",
    "\n",
    "$$\n",
    "D_{\\vec{u}} f(a, b)=\\lim _{h \\rightarrow 0} \\frac{f\\left(a+h u_{1}, b+h u_{2}\\right)-f(a, b)}{h} .\n",
    "$$"
   ]
  },
  {
   "cell_type": "markdown",
   "metadata": {},
   "source": [
    "<img src=\"../../media/mvc/grad/img1.png\" style=\"width:400px;\"/>"
   ]
  },
  {
   "cell_type": "markdown",
   "metadata": {},
   "source": [
    "Hence the directional derivative of a differentiable function $f(x, y)$ at $(a, b)$ in the direction of a unit vector $\\hat{\\boldsymbol{u}}=\\left\\langle u_{1}, u_{2}\\right\\rangle$ is\n",
    "\n",
    "$$\n",
    "D_{\\vec{u}} f(a, b)=\\overrightarrow{\\boldsymbol{\\nabla}} f(a, b) \\cdot \\hat{\\boldsymbol{u}}=f_{x}(a, b) u_{1}+f_{y}(a, b) u_{2} .\n",
    "$$\n",
    "\n",
    "- It is the rate of change of $z$ in the direction of $\\hat{\\boldsymbol{u}}$ (and is a scalar)\n",
    "- Alternative notations: $\\left.D_{\\vec{u}} f\\right|_{(a, b)}, \\quad f_{\\vec{u}}(a, b)$"
   ]
  },
  {
   "cell_type": "markdown",
   "metadata": {},
   "source": [
    "## Geometrical properties"
   ]
  },
  {
   "cell_type": "markdown",
   "metadata": {},
   "source": [
    "If $f$ is a differentiable function at the point $(a, b)$ and $\\vec{\\nabla} f(a, b) \\neq \\overrightarrow{\\mathbf{0}}$, then:\n",
    "\n",
    "- $\\vec{\\nabla} f(a, b)$ is perpendicular to the level curve (contour) of $f$ through $(a, b)$\n",
    "\n",
    "- the maximum rate of change of $f$ at $(a, b)$ is $|\\vec{\\nabla} f|$ and occurs in the direction of $\\vec{\\nabla} f(a, b)$."
   ]
  },
  {
   "cell_type": "markdown",
   "metadata": {},
   "source": [
    "```{figure} ../../media/mvc/grad/img2.png\n",
    "```"
   ]
  },
  {
   "cell_type": "markdown",
   "metadata": {},
   "source": [
    "## Functions of 3 Variables"
   ]
  },
  {
   "cell_type": "markdown",
   "metadata": {},
   "source": [
    "Similarly for a function $f(x, y, z)$, the gradient vector is defined by\n",
    "\n",
    "$$\n",
    "\\vec{\\nabla} f=\\operatorname{grad} f=\\left\\langle f_{x}, f_{y}, f_{z}\\right\\rangle=\\frac{\\partial f}{\\partial x} \\mathbf{i}+\\frac{\\partial f}{\\partial y} \\mathbf{j}+\\frac{\\partial f}{\\partial z} \\mathbf{k}\n",
    "$$\n",
    "\n",
    "The directional derivative of $f(x, y, z)$ at $(a, b, c)$ in the direction of a unit vector $\\hat{\\boldsymbol{u}}=$ $\\left\\langle u_{1}, u_{2}, u_{3}\\right\\rangle$ is\n",
    "\n",
    "$$\n",
    "D_{\\vec{u}} f(a, b, c)=\\overrightarrow{\\boldsymbol{\\nabla}} f(a, b, c) \\cdot \\hat{\\boldsymbol{u}}=f_{x}(a, b, c) u_{1}+f_{y}(a, b, c) u_{2}+f_{z}(a, b, c) u_{3} .\n",
    "$$\n",
    "\n",
    "If $\\overrightarrow{\\boldsymbol{\\nabla}} f(a, b, c) \\neq \\overrightarrow{\\mathbf{0}}$, then:\n",
    "- $\\vec{\\nabla} f(a, b, c)$ is perpendicular to the level surface of $f$ at $(a, b, c)$\n",
    "\n",
    "- the maximum rate of change of $f$ at $(a, b, c)$ is $|\\vec{\\nabla} f|$ and occurs in the direction of $\\vec{\\nabla} f(a, b, c)$."
   ]
  },
  {
   "cell_type": "markdown",
   "metadata": {},
   "source": [
    "## Tangent Line to a Level Curve"
   ]
  },
  {
   "cell_type": "markdown",
   "metadata": {},
   "source": [
    "$$\n",
    "f_x(x_0, y_0)(x - x_0) + f_y(x_0, y_0)(y - y_0) = 0\n",
    "$$"
   ]
  },
  {
   "cell_type": "markdown",
   "metadata": {},
   "source": [
    "```{figure}../../media/mvc/grad/img3.png\n",
    "```"
   ]
  },
  {
   "cell_type": "markdown",
   "metadata": {},
   "source": [
    "## Algebraic Rules of Gradient"
   ]
  },
  {
   "cell_type": "markdown",
   "metadata": {},
   "source": [
    "```{figure} ../../../media/mvc/grad/img4.png\n",
    "```"
   ]
  },
  {
   "cell_type": "markdown",
   "metadata": {},
   "source": [
    "## Tangent Planes and Normal Lines"
   ]
  },
  {
   "cell_type": "markdown",
   "metadata": {},
   "source": [
    "```{figure} ../../../media/mvc/grad/img5.png\n",
    "```"
   ]
  },
  {
   "cell_type": "markdown",
   "metadata": {},
   "source": [
    "```{figure} ../../../media/mvc/grad/img6.png\n",
    "```"
   ]
  },
  {
   "cell_type": "markdown",
   "metadata": {},
   "source": [
    "```{figure} ../../../media/mvc/grad/img7.png\n",
    "```\n"
   ]
  },
  {
   "cell_type": "markdown",
   "metadata": {},
   "source": []
  }
 ],
 "metadata": {
  "kernelspec": {
   "display_name": "Python 3.9.5 ('base')",
   "language": "python",
   "name": "python3"
  },
  "language_info": {
   "name": "python",
   "version": "3.9.5"
  },
  "orig_nbformat": 4,
  "vscode": {
   "interpreter": {
    "hash": "c96c929cd44cbfb83c61d0a24797df5d65008c381a130fe7ec7b20b72344b911"
   }
  }
 },
 "nbformat": 4,
 "nbformat_minor": 2
}
