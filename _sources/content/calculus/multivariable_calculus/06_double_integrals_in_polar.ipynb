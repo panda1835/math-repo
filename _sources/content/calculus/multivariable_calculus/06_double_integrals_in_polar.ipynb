{
 "cells": [
  {
   "cell_type": "markdown",
   "metadata": {},
   "source": [
    "# Double Integrals in Polar Coordinates"
   ]
  },
  {
   "cell_type": "markdown",
   "metadata": {},
   "source": [
    "## Polar coordinates"
   ]
  },
  {
   "cell_type": "markdown",
   "metadata": {},
   "source": [
    "![img](../../../media/mvc/pc/img1.jpg)"
   ]
  },
  {
   "cell_type": "markdown",
   "metadata": {},
   "source": [
    "## Conversions"
   ]
  },
  {
   "cell_type": "markdown",
   "metadata": {},
   "source": [
    "![img](../../../media/mvc/pc/img2.jpg)"
   ]
  },
  {
   "cell_type": "markdown",
   "metadata": {},
   "source": [
    "Note:\n",
    "\n",
    "  - For a given $(x, y)$, the equation $\\tan \\theta=\\frac{y}{x}$ has two solutions in the range $0 \\leq \\theta \\leq 2 \\pi$.\n",
    "You must choose $\\theta$ so that the point lies in the correct quadrant, for examply by plotting the point.\n",
    "\n",
    "  - That is, you may need to take $\\theta=\\arctan \\left(\\frac{y}{x}\\right)$ or $\\theta=\\arctan \\left(\\frac{y}{x}\\right)+\\pi$."
   ]
  },
  {
   "cell_type": "markdown",
   "metadata": {},
   "source": [
    "## Double Integrals in Polar Coordinates"
   ]
  },
  {
   "cell_type": "markdown",
   "metadata": {},
   "source": [
    "![img](../../../media/mvc/pc/img3.jpg)"
   ]
  },
  {
   "cell_type": "markdown",
   "metadata": {},
   "source": [
    "- The area element in Cartesian coordinates is $d A=d x d y$.\n",
    "\n",
    "- In polar coordinates it is $d A=r d r d \\theta$.\n",
    "\n",
    "- Hence a double integral $\\iint_{D} f(x, y) d A$ in Cartesian coordinates can be converted to a double integral in polar coordinates $\\iint_{D} f(r \\cos \\theta, r \\sin \\theta) r d r d \\theta$."
   ]
  },
  {
   "cell_type": "markdown",
   "metadata": {},
   "source": [
    "Note: Converting a double integral from Cartesian to polar coordinates is one example of performing a change of variables in a multiple integral. More generally, changes of variables are performed using what is known as a Jacobian - see Thomas section $15.8$ (p953-958 cover the $2 \\mathrm{D}$ case)."
   ]
  },
  {
   "cell_type": "markdown",
   "metadata": {},
   "source": []
  }
 ],
 "metadata": {
  "kernelspec": {
   "display_name": "Python 3.9.5 ('base')",
   "language": "python",
   "name": "python3"
  },
  "language_info": {
   "name": "python",
   "version": "3.9.5"
  },
  "orig_nbformat": 4,
  "vscode": {
   "interpreter": {
    "hash": "c96c929cd44cbfb83c61d0a24797df5d65008c381a130fe7ec7b20b72344b911"
   }
  }
 },
 "nbformat": 4,
 "nbformat_minor": 2
}
