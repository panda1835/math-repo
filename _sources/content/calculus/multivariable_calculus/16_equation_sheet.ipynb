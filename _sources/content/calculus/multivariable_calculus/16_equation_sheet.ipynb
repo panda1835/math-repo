{
 "cells": [
  {
   "cell_type": "markdown",
   "metadata": {},
   "source": [
    "# Equation sheet"
   ]
  },
  {
   "cell_type": "markdown",
   "metadata": {},
   "source": [
    "## Some combinations and identities\n",
    "\n",
    "### The Laplacian\n",
    "\n",
    "- For a scalar field $f, \\quad \\nabla^{2} f=\\vec{\\nabla} \\cdot \\vec{\\nabla} f=\\frac{\\partial^{2} f}{\\partial x^{2}}+\\frac{\\partial^{2} f}{\\partial y^{2}}+\\frac{\\partial^{2} f}{\\partial z^{2}} \\quad$ where $\\nabla^{2}$ is the Laplacian operator.\n",
    "\n",
    "- (It occurs in many important equations, such as the wave equation $\\nabla^{2} f-\\frac{1}{c^{2}} \\frac{\\partial^{2} f}{\\partial t^{2}}=0$, and as Laplace's equation, the diffusion equation, the Schrödinger equation, etc.)\n",
    "\n",
    "- The Laplacian of a vector field $\\overrightarrow{\\boldsymbol{F}}=M(x, y, z) \\mathbf{i}+N(x, y, z) \\mathbf{j}+P(x, y, z) \\mathbf{k}$ is also defined:\n",
    "\n",
    "$$\n",
    "\\nabla^{2} \\overrightarrow{\\boldsymbol{F}}=\\nabla^{2} N \\mathbf{i}+\\nabla^{2} P \\mathbf{j}+\\nabla^{2} Q \\mathbf{k} .\n",
    "$$\n",
    "\n",
    "### Curl Grad and Conservative Fields\n",
    "\n",
    "- For any scalar field $f(x, y, z)$ with continuous second derivatives, $\\vec{\\nabla} \\times \\vec{\\nabla} f=\\overrightarrow{\\mathbf{0}}$ (see Q17).\n",
    "\n",
    "- Hence for any conservative vector field $\\overrightarrow{\\boldsymbol{F}}=\\overrightarrow{\\boldsymbol{\\nabla}} f$ we have $\\overrightarrow{\\boldsymbol{\\nabla}} \\times \\overrightarrow{\\boldsymbol{F}}=\\overrightarrow{\\mathbf{0}}$. That is, conservative fields are irrotational.\n",
    "\n",
    "- It can also be proved that if $\\vec{\\nabla} \\times \\overrightarrow{\\boldsymbol{F}}=\\overrightarrow{\\mathbf{0}}$ then $\\overrightarrow{\\boldsymbol{F}}$ is conservative. This provides a simple test for whether a 3D field is conservative.\n",
    "\n",
    "### Some other identities\n",
    "\n",
    "- There is a useful identity\n",
    "\n",
    "$$\n",
    "\\vec{\\nabla} \\times(\\vec{\\nabla} \\times \\overrightarrow{\\boldsymbol{F}})=\\vec{\\nabla}(\\vec{\\nabla} \\cdot \\overrightarrow{\\boldsymbol{F}})-\\vec{\\nabla}^{2} \\overrightarrow{\\boldsymbol{F}}\n",
    "$$\n",
    "\n",
    "- For any vector field $\\overrightarrow{\\boldsymbol{F}}, \\quad \\overrightarrow{\\boldsymbol{\\nabla}} \\cdot(\\overrightarrow{\\boldsymbol{\\nabla}} \\times \\overrightarrow{\\boldsymbol{F}})=0 \\quad$ (see Q19)."
   ]
  },
  {
   "cell_type": "markdown",
   "metadata": {},
   "source": [
    "## Theorem Summary\n",
    "### FTC\n",
    "\n",
    "$$\n",
    "\\int_{a}^{b} F^{\\prime}(x) d x=F(b)-F(a)\n",
    "$$\n",
    "\n",
    "![img](../../../media/mvc/theorem_summary/img1.png)\n",
    "\n",
    "### FTC for line integrals \n",
    "\n",
    "$$\n",
    "\\int_{C} \\nabla f \\cdot d \\mathbf{r}=f(\\mathbf{r}(b))-f(\\mathbf{r}(a))\n",
    "$$\n",
    "\n",
    "![img](../../../media/mvc/theorem_summary/img2.png)\n",
    "\n",
    "### Green's theorem \n",
    "\n",
    "$$\n",
    "\\iint_{D}\\left(\\frac{\\partial M}{\\partial x}-\\frac{\\partial N}{\\partial y}\\right) d A=\\oint_{C} M d x+N d y\n",
    "$$\n",
    "\n",
    "![img](../../../media/mvc/theorem_summary/img3.png)\n",
    "\n",
    "### Stoke's theorem\n",
    "\n",
    "$$\n",
    "\\iint_{S} \\nabla \\times \\mathbf{F} \\cdot d \\mathbf{S}=\\oint_{C} \\mathbf{F} \\cdot d \\mathbf{r}\n",
    "$$\n",
    "\n",
    "![img](../../../media/mvc/theorem_summary/img4.png)\n",
    "\n",
    "### Divergence theorem\n",
    "\n",
    "$$\n",
    "\\iiint_{E} \\nabla \\cdot \\mathbf{F} d V=\\iint_{S} \\mathbf{F} \\cdot d \\mathbf{S}\n",
    "$$\n",
    "\n",
    "![img](../../../media/mvc/theorem_summary/img5.png)"
   ]
  },
  {
   "cell_type": "markdown",
   "metadata": {},
   "source": []
  }
 ],
 "metadata": {
  "kernelspec": {
   "display_name": "Python 3.9.5 ('base')",
   "language": "python",
   "name": "python3"
  },
  "language_info": {
   "name": "python",
   "version": "3.9.5"
  },
  "orig_nbformat": 4,
  "vscode": {
   "interpreter": {
    "hash": "c96c929cd44cbfb83c61d0a24797df5d65008c381a130fe7ec7b20b72344b911"
   }
  }
 },
 "nbformat": 4,
 "nbformat_minor": 2
}
