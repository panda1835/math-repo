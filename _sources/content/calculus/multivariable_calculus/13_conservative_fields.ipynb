{
 "cells": [
  {
   "cell_type": "markdown",
   "metadata": {},
   "source": [
    "# Conservative Fields"
   ]
  },
  {
   "cell_type": "markdown",
   "metadata": {},
   "source": [
    "## Conservative Fields and Potentials\n",
    "\n",
    "If for a vector field $\\overrightarrow{\\boldsymbol{F}}(x, y, z)$ there exists a function $f(x, y, z)$ satisfying $\\overrightarrow{\\boldsymbol{F}}=\\overrightarrow{\\boldsymbol{\\nabla}} f$ then $\\overrightarrow{\\boldsymbol{F}}$ is called a conservative vector field, and $f$ is called a potential function for vector field $\\overrightarrow{\\boldsymbol{F}}$.\n",
    "\n",
    "- Not all vector fields are conservative, but many important fields in physics are conservative.\n",
    "\n",
    "- For a conservative field, field lines are orthogonal to equipotential surfaces."
   ]
  },
  {
   "cell_type": "markdown",
   "metadata": {},
   "source": [
    "## The Fundamental Theorem for Line Integrals\n",
    "\n",
    "For a smooth curve $C$ given by $\\overrightarrow{\\boldsymbol{r}}(t), a \\leq t \\leq b$, and a scalar field $f(x, y, z)$ such that $\\vec{\\nabla} f$ exists\n",
    "\n",
    "$$\n",
    "\\int_{C} \\vec{\\nabla} f \\cdot d \\overrightarrow{\\boldsymbol{r}}=f(\\mathbf{r}(b))-f(\\mathbf{r}(a)) .\n",
    "$$\n",
    "and is continuous on $C$,\n",
    "\n",
    "Hence for a conservative field $\\overrightarrow{\\boldsymbol{F}}=\\overrightarrow{\\boldsymbol{\\nabla}} f$\n",
    "\n",
    "- the line integral of $\\overrightarrow{\\boldsymbol{F}}$ is equal to the net change in the potential function, $\\Delta f$\n",
    "\n",
    "- the line integral of $\\overrightarrow{\\boldsymbol{F}}$ is independent of path\n",
    "\n",
    "- around any closed path, $\\oint_{C} \\overrightarrow{\\boldsymbol{F}} \\cdot d \\overrightarrow{\\boldsymbol{r}}=0$.\n",
    "\n",
    "The following converse statements can also be proved to be true (see textbooks):\n",
    "\n",
    "- $\\int_{C} \\overrightarrow{\\boldsymbol{F}} \\cdot d \\overrightarrow{\\boldsymbol{r}}$ is independent of path if and only if $\\overrightarrow{\\boldsymbol{F}}$ is a conservative vector field (that is, if and only if there exists a scalar function $f$ such that $\\overrightarrow{\\boldsymbol{F}}=\\overrightarrow{\\boldsymbol{\\nabla}} f$.)\n",
    "\n",
    "- $\\int_{C} \\overrightarrow{\\boldsymbol{F}} \\cdot d \\overrightarrow{\\boldsymbol{r}}$ is independent of path in a region $D$ if and only if $\\oint_{C} \\overrightarrow{\\boldsymbol{F}} \\cdot d \\overrightarrow{\\boldsymbol{r}}=0$ for every closed path $C$ in $D$.\n",
    "\n",
    "**Application**\n",
    "\n",
    "This theorem is the mathematical basis of the principle of conservation of energy. For a conservative force field $\\overrightarrow{\\boldsymbol{F}}$, the potential energy, $E_{p}$, of a body due to the field is defined to be minus the associated potential, $\\overrightarrow{\\boldsymbol{F}}=-\\overrightarrow{\\boldsymbol{\\nabla}} E_{p}$. So if we move a body along a path $C$ from point $A$ to point $B$ against the field, the increase in potential energy is equal to the work done against the field and is independent of path: $\\quad-\\int_{C} \\overrightarrow{\\boldsymbol{F}} \\cdot d \\overrightarrow{\\boldsymbol{r}}=\\int_{A}^{B} \\overrightarrow{\\boldsymbol{\\nabla}} E_{p} \\cdot d \\overrightarrow{\\boldsymbol{r}}=E_{p}(B)-E_{p}(A)$."
   ]
  },
  {
   "cell_type": "markdown",
   "metadata": {},
   "source": [
    "## (Component Test) Theorem\n",
    "\n",
    "1.  If $\\mathbf{F}=M(x, y) \\mathbf{i}+N(x, y) \\mathbf{j}$ is a conservative vector field on an open, simply connected\" region $D$, and $M$ and $N$ have continuous first order partial derivatives in $D$, then $\\frac{\\partial M}{\\partial y}=\\frac{\\partial N}{\\partial x}$ throughout $D$.\n",
    "\n",
    "2. Conversely, if $P$ and $Q$ have continuous first order partial derivatives in $D$ and satisfy $\\frac{\\partial M}{\\partial y}=\\frac{\\partial N}{\\partial x}$ then $\\mathbf{F}$ is conservative.\n",
    "\n",
    "* open means it does not contain any boundary points \n",
    "* simply connected means it consists of just one piece, without any holes\n",
    "\n",
    "![img](../../../media/mvc/cf/img1.png)\n",
    "\n",
    "Note:\n",
    "- Part ii) is what we use to determine whether or not a given vector field is conservative, and is sometimes known as the component test. The equivalent result in $\\boldsymbol{R}^{3}$ is (from Thomas p.994):"
   ]
  },
  {
   "cell_type": "markdown",
   "metadata": {},
   "source": [
    "## Component Test for Conservative Fields\n",
    "\n",
    "Let $\\mathbf{F}=M(x, y, z) \\mathbf{i}+N(x, y, z) \\mathbf{j}+P(x, y, z) \\mathbf{k}$ be a field on an open simply connected domain whose component functions have continuous first partial derivatives. Then, $\\mathbf{F}$ is conservative if and only if\n",
    "\n",
    "$$\n",
    "\\frac{\\partial P}{\\partial y}=\\frac{\\partial N}{\\partial z}, \\quad \\frac{\\partial M}{\\partial z}=\\frac{\\partial P}{\\partial x}, \\quad \\text { and } \\quad \\frac{\\partial N}{\\partial x}=\\frac{\\partial M}{\\partial y} .\n",
    "$$"
   ]
  },
  {
   "cell_type": "markdown",
   "metadata": {},
   "source": []
  }
 ],
 "metadata": {
  "kernelspec": {
   "display_name": "Python 3.9.5 ('base')",
   "language": "python",
   "name": "python3"
  },
  "language_info": {
   "name": "python",
   "version": "3.9.5"
  },
  "orig_nbformat": 4,
  "vscode": {
   "interpreter": {
    "hash": "c96c929cd44cbfb83c61d0a24797df5d65008c381a130fe7ec7b20b72344b911"
   }
  }
 },
 "nbformat": 4,
 "nbformat_minor": 2
}
