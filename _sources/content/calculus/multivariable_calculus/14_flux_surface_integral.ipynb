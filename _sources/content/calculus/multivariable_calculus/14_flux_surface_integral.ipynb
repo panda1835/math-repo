{
 "cells": [
  {
   "cell_type": "markdown",
   "metadata": {},
   "source": [
    "# Flux & Surface Integrals"
   ]
  },
  {
   "cell_type": "markdown",
   "metadata": {},
   "source": [
    "## Oriented Surfaces\n",
    "\n",
    "- If at every point on a surface $S$ there exist two unique unit normal vectors, $\\hat{\\boldsymbol{n}}$ and $-\\hat{\\boldsymbol{n}}$, with $\\hat{\\boldsymbol{n}}$ varying continuously over $S$, then $S$ is called an oriented (or orientable or two-sided) surface.\n",
    "\n",
    "- If $S$ is defined by $\\overrightarrow{\\boldsymbol{r}}(u, v)$, the positive normal vector is in the direction of $\\frac{\\partial \\vec{r}}{\\partial u} \\times \\frac{\\partial \\vec{r}}{\\partial v}$.\n",
    "\n",
    "- For a closed surface bounding a solid region $E$, the positive orientation is that for which normal vectors point outward from $E$.\n"
   ]
  },
  {
   "cell_type": "markdown",
   "metadata": {},
   "source": [
    "## Flux\n",
    "\n",
    "The flux of $\\overrightarrow{\\boldsymbol{F}}(x, y, z)$ across a surface $S$ is given by $\\iint_{S} \\overrightarrow{\\boldsymbol{F}} \\cdot \\hat{\\mathbf{n}} d S$ where $\\hat{\\mathbf{n}}$ is a field of unit vectors perpendicular ('normal') to the surface."
   ]
  },
  {
   "cell_type": "markdown",
   "metadata": {},
   "source": [
    "## Surface integrals of vector fields (flux integrals)\n",
    "\n",
    "If $\\overrightarrow{\\boldsymbol{F}}$ is a continuous vector field defined on an oriented surface $S$ with unit normal vector $\\hat{\\boldsymbol{n}}$ then the surface integral of $\\overrightarrow{\\boldsymbol{F}}$ over $S$ is $\\iint_{S} \\overrightarrow{\\boldsymbol{F}} \\cdot \\hat{\\boldsymbol{n}} d S=\\iint_{S} \\overrightarrow{\\boldsymbol{F}} \\cdot d \\overrightarrow{\\boldsymbol{S}} \\quad$ where $d \\overrightarrow{\\boldsymbol{S}}$ is a vector surface area element, $d \\overrightarrow{\\boldsymbol{S}}=\\hat{\\boldsymbol{n}} d S$.\n",
    "\n",
    "- This integral is also called the flux of $\\overrightarrow{\\boldsymbol{F}}$ over $S$\n",
    "\n",
    "- It is the integral of the normal component of $\\overrightarrow{\\boldsymbol{F}}$ over $S$\n",
    "\n",
    "- For a closed surface, it is the flux of $\\overrightarrow{\\boldsymbol{F}}$ out of $S$ if $\\hat{\\boldsymbol{n}}$ points outwards, or the flux into $S$ if $\\hat{\\boldsymbol{n}}$ points inwards"
   ]
  },
  {
   "cell_type": "markdown",
   "metadata": {},
   "source": [
    "## Evaluating flux integrals\n",
    "\n",
    "As for surface integrals of scalar fields, the method of finding $d \\overrightarrow{\\boldsymbol{S}}$ and evaluating the integral depends on the surface given.\n",
    "\n",
    "- For a parametric surface $\\overrightarrow{\\boldsymbol{r}}(u, v)$, we have $d \\overrightarrow{\\boldsymbol{S}}=\\hat{\\boldsymbol{n}} d S=\\overrightarrow{\\boldsymbol{n}} d u d v=\\frac{\\partial \\overrightarrow{\\boldsymbol{r}}}{\\partial u} \\times \\frac{\\partial \\overrightarrow{\\boldsymbol{r}}}{\\partial v} d u d v$\n",
    "\n",
    "- For a surface $z=g(x, y)$, using $x, y$ as parameters, $\\frac{\\partial \\vec{r}}{\\partial x} \\times \\frac{\\partial \\vec{r}}{\\partial y}=\\left\\langle-\\frac{\\partial g}{\\partial x},-\\frac{\\partial g}{\\partial y}, 1\\right\\rangle$.\n",
    "\n",
    "So $d \\overrightarrow{\\boldsymbol{S}}=\\left\\langle-\\frac{\\partial g}{\\partial x},-\\frac{\\partial g}{\\partial y}, 1\\right\\rangle d x d y$.\n",
    "\n",
    "- Sometimes $d \\overrightarrow{\\boldsymbol{S}}$ can be deduced simply by geometry (e.g. on the faces of a rectangular box).\n",
    "\n",
    "- On the curved surface of a cylinder of radius $a$, the direction of $d \\overrightarrow{\\boldsymbol{S}}$ is radially outwards and the magnitude is $d S=a d \\theta d \\phi$. On the curved surface of a sphere of radius $a$, the direction of $d \\overrightarrow{\\boldsymbol{S}}$ is radially outwards and the magnitude is $d S=a^{2} \\sin \\phi d \\theta d \\phi$."
   ]
  },
  {
   "cell_type": "markdown",
   "metadata": {},
   "source": [
    "## An application \n",
    "\n",
    "**Gauss's Law** of electrostatics states that for a closed surface $S$, the flux of the electric field $\\mathbf{E}$ through the surface is related to the charge $Q$ enclosed:\n",
    "\n",
    "$$\n",
    "\\iint_{S} \\mathbf{E} \\cdot d \\mathbf{S}=\\frac{Q}{\\epsilon_{0}} \\quad \\text { where } \\varepsilon_{0} \\text { is a constant. }\n",
    "$$\n",
    "\n",
    "This law can be used to find $\\mathbf{E}$ in many different situations.\n",
    "\n",
    "Example\n",
    "\n",
    "Let $S$ be a spherical surface of radius $r$ enclosing a single charge $Q$ at its centre.\n",
    "\n",
    "By symmetry, $\\mathbf{E}$ must be normal to the surface everywhere, hence\n",
    "\n",
    "$$\n",
    "\\iint_{S} \\mathbf{E} \\cdot d \\mathbf{S}=E .4 \\pi r^{2}=\\frac{Q}{\\epsilon_{0}} \\quad \\text { so } \\quad E=\\frac{Q}{4 \\pi \\epsilon_{0} r^{2}} \\quad \\text { (Coulomb's law). }\n",
    "$$"
   ]
  },
  {
   "cell_type": "markdown",
   "metadata": {},
   "source": []
  }
 ],
 "metadata": {
  "kernelspec": {
   "display_name": "Python 3.9.5 ('base')",
   "language": "python",
   "name": "python3"
  },
  "language_info": {
   "name": "python",
   "version": "3.9.5"
  },
  "orig_nbformat": 4,
  "vscode": {
   "interpreter": {
    "hash": "c96c929cd44cbfb83c61d0a24797df5d65008c381a130fe7ec7b20b72344b911"
   }
  }
 },
 "nbformat": 4,
 "nbformat_minor": 2
}
