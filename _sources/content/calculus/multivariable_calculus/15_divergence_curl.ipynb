{
 "cells": [
  {
   "cell_type": "markdown",
   "metadata": {},
   "source": [
    "# Divergence, Curl and more Theorems"
   ]
  },
  {
   "cell_type": "markdown",
   "metadata": {},
   "source": [
    "## Divergence \\& Curl\n",
    "\n",
    "Consider a 3D vector field $\\overrightarrow{\\boldsymbol{F}}(x, y, z)=M(x, y, z) \\mathbf{i}+N(x, y, z) \\mathbf{j}+P(x, y, z) \\mathbf{k}$.\n",
    "\n",
    "The divergence of $\\overrightarrow{\\boldsymbol{F}}$ is a scalar field: $\\quad \\operatorname{div} \\overrightarrow{\\boldsymbol{F}}=\\overrightarrow{\\boldsymbol{\\nabla}} \\cdot \\overrightarrow{\\boldsymbol{F}}=\\frac{\\partial M}{\\partial x}+\\frac{\\partial N}{\\partial y}+\\frac{\\partial P}{\\partial z}$\n",
    "\n",
    "The curl of $\\overrightarrow{\\boldsymbol{F}}$ is a vector field: $\\quad \\operatorname{curl} \\overrightarrow{\\boldsymbol{F}}=\\overrightarrow{\\boldsymbol{\\nabla}} \\times \\overrightarrow{\\boldsymbol{F}}=\\left|\\begin{array}{ccc}\\mathbf{i} & \\mathbf{j} & \\mathbf{k} \\\\ \\frac{\\partial}{\\partial x} & \\frac{\\partial}{\\partial y} & \\frac{\\partial}{\\partial z} \\\\ M & N & P\\end{array}\\right|$\n",
    "\n",
    "Note that $\\vec{\\nabla}=\\mathbf{i} \\frac{\\partial}{\\partial x}+\\mathbf{j} \\frac{\\partial}{\\partial y}+\\mathbf{k} \\frac{\\partial}{\\partial z}$ is the vector differential operator. (The symbol $\\nabla$ is sometimes read 'nabla' or 'del'.)\n",
    "\n",
    "Basically speaking, in terms of fluid flow, at a given point\n",
    "\n",
    "- $\\vec{\\nabla} \\cdot \\overrightarrow{\\boldsymbol{F}}$ tells us the rate at which the fluid spreads away from, or converges towards, the point (whether the point is a 'source' or a 'sink') - the rate of change of the fluid density at the point.\n",
    "\n",
    "- $\\overrightarrow{\\boldsymbol{\\nabla}} \\times \\overrightarrow{\\boldsymbol{F}}$ gives a measure the rate of rotation of the fluid at the point - whether or how quickly fluid is swirling around the point.\n",
    "\n",
    "- If $\\vec{\\nabla} \\cdot \\overrightarrow{\\boldsymbol{F}}=\\overrightarrow{\\mathbf{0}}$ everywhere, the fluid is said to be incompressible.\n",
    "\n",
    "- If $\\vec{\\nabla} \\times \\overrightarrow{\\boldsymbol{F}}=\\overrightarrow{\\mathbf{0}}$ everywhere, the field is said to be curl-free or irrotational."
   ]
  },
  {
   "cell_type": "markdown",
   "metadata": {},
   "source": [
    "## The Divergence Theorem\n",
    "\n",
    "Let $E$ be a 3D region bounded by a closed surface $S$. If $\\overrightarrow{\\boldsymbol{F}}(x, y, z)$ is a smooth vector field defined on $E$ then\n",
    "\n",
    "$$\n",
    "\\iint_{S} \\overrightarrow{\\boldsymbol{F}} \\cdot d \\overrightarrow{\\boldsymbol{S}}=\\iiint_{E} \\overrightarrow{\\boldsymbol{\\nabla}} \\cdot \\overrightarrow{\\boldsymbol{F}} d V\n",
    "$$"
   ]
  },
  {
   "cell_type": "markdown",
   "metadata": {},
   "source": [
    "## Stokes' Theorem\n",
    "\n",
    "Let $\\overrightarrow{\\boldsymbol{F}}(x, y, z)$ be a smooth vector field defined on a surface $S$ which is an oriented, piecewisesmooth, open surface bounded by a simple, piecewise-smooth, closed, positively-oriented curve $C$ then\n",
    "\n",
    "$$\n",
    "\\oint_{C} \\overrightarrow{\\boldsymbol{F}} \\cdot d \\overrightarrow{\\boldsymbol{r}}=\\iint_{S} \\overrightarrow{\\boldsymbol{\\nabla}} \\times \\overrightarrow{\\boldsymbol{F}} \\cdot d \\overrightarrow{\\boldsymbol{S}}\n",
    "$$\n",
    "\n",
    "*Note*: A given space curve $C$ may be the boundary of many different surfaces $S$. The surface integral will give the same value whichever surface $S$ is used. (So for purposes of calculation, we may choose the simplest surface.)"
   ]
  },
  {
   "cell_type": "markdown",
   "metadata": {},
   "source": [
    "## Green's Theorem in the Plane\n",
    "\n",
    "Let $C$ be a piecewise smooth, simple closed curve with positive orientation and let $D$ be the plane region bounded by $C$. If $M$ and $N$ have continuous first order partial derivatives on an open region that contains $D$, then\n",
    "\n",
    "$$\n",
    "\\oint_{C} M d x+N d y=\\iint_{D}\\left(\\frac{\\partial N}{\\partial x}-\\frac{\\partial M}{\\partial y}\\right) d x d y\n",
    "$$\n",
    "\n",
    "Optional further reading: Green's theorem also provides a method for calculating an area by instead calculating a line integral around its boundary - see Thomas p.1011 or other textbooks. "
   ]
  },
  {
   "cell_type": "markdown",
   "metadata": {},
   "source": [
    "## Formal definitions (*Optional*)\n",
    "\n",
    "In 2D, divergence and curl are formally defined as:\n",
    "\n",
    "$$\n",
    "\\vec{\\nabla} \\cdot \\overrightarrow{\\boldsymbol{F}}=\\lim _{\\left|A_{(x, y)}\\right| \\rightarrow 0}\\left(\\frac{1}{\\left|A_{(x, y)}\\right|} \\oint_{C} \\overrightarrow{\\boldsymbol{F}} \\cdot \\hat{\\boldsymbol{n}} d \\overrightarrow{\\boldsymbol{S}}\\right)\n",
    "$$\n",
    "\n",
    "$$\n",
    "\\vec{\\nabla} \\times \\overrightarrow{\\boldsymbol{F}}=\\lim _{\\left|A_{(x, y)}\\right| \\rightarrow 0}\\left(\\frac{1}{\\left|A_{(x, y)}\\right|} \\oint_{C} \\overrightarrow{\\boldsymbol{F}} \\cdot d \\overrightarrow{\\boldsymbol{r}}\\right)\n",
    "$$\n",
    "\n",
    "\n",
    "\n",
    "where $A_{(x, y)}$ represents some region around the point $(x, y)$.\n",
    "\n",
    "From these definitions we can understood divergence (curl) as the limit of the average value of the flux (circulation) over a region around a point as we let the region get smaller and smaller. - See Khan Academy website or advanced textbooks."
   ]
  },
  {
   "cell_type": "markdown",
   "metadata": {},
   "source": []
  }
 ],
 "metadata": {
  "kernelspec": {
   "display_name": "Python 3.9.5 ('base')",
   "language": "python",
   "name": "python3"
  },
  "language_info": {
   "name": "python",
   "version": "3.9.5"
  },
  "orig_nbformat": 4,
  "vscode": {
   "interpreter": {
    "hash": "c96c929cd44cbfb83c61d0a24797df5d65008c381a130fe7ec7b20b72344b911"
   }
  }
 },
 "nbformat": 4,
 "nbformat_minor": 2
}
