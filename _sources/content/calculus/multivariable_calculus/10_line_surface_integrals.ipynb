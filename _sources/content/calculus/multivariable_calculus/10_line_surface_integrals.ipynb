{
 "cells": [
  {
   "cell_type": "markdown",
   "metadata": {},
   "source": [
    "# Line & Surface Integrals"
   ]
  },
  {
   "cell_type": "markdown",
   "metadata": {},
   "source": [
    "## Arc Length (revisited)\n",
    "\n",
    "![img](../../../media/mvc/li/img1.png)\n",
    "\n",
    "In single-variable calculus we learned that for a smooth curve $C$ in the $x y$-plane, the arc length is given by an integral $L=\\int_{C} d s$ where $d s$, the differential element of arc length, is given by $d s=$ $\\sqrt{(d x)^{2}+(d y)^{2}}$.\n",
    "\n",
    "- For a curve $y=f(x)$, we can write $d s=\\sqrt{(d x)^{2}+(d y)^{2}}=\\sqrt{1+\\left(\\frac{d y}{d x}\\right)^{2}} d x$, so the arc length of $y=f(x)$ on $a \\leq x \\leq b$ is given by $L=\\int_{a}^{b} \\sqrt{1+\\left(\\frac{d y}{d x}\\right)^{2}} d x$.\n",
    "\n",
    "- Similarly, for a curve $x=g(y)$ on $c \\leq y \\leq d$ we can write $d s=\\sqrt{\\left(\\frac{d x}{d y}\\right)^{2}+1} d y$, so the arc length is $L=\\int_{c}^{d} \\sqrt{\\left(\\frac{d x}{d y}\\right)^{2}+1} d y$.\n",
    "\n",
    "- For a 2D parametric curve $x=f(t), y=g(t), a \\leq t \\leq b$ we can write $d s=\\sqrt{\\left(\\frac{d x}{d t}\\right)^{2}+\\left(\\frac{d y}{d t}\\right)^{2}} d t$, so the arc length is $L=\\int_{a}^{b} \\sqrt{\\left(\\frac{d x}{d t}\\right)^{2}+\\left(\\frac{d y}{d t}\\right)^{2}} d t=\\int_{a}^{b} \\sqrt{\\left(f^{\\prime}(t)\\right)^{2}+\\left(g^{\\prime}(t)\\right)^{2}} d t \\quad$ [1].\n",
    "\n",
    "- Similarly for a smooth 3D curve with vector equation $\\overrightarrow{\\boldsymbol{r}}(t)=\\langle f(t), g(t), h(t)\\rangle, a \\leq t \\leq b$, $L=\\int_{a}^{b} \\sqrt{\\left(\\frac{d x}{d t}\\right)^{2}+\\left(\\frac{d y}{d t}\\right)^{2}+\\left(\\frac{d z}{d t}\\right)^{2}} d t=\\int_{a}^{b} \\sqrt{\\left(f^{\\prime}(t)\\right)^{2}+\\left(g^{\\prime}(t)\\right)^{2}+\\left(h^{\\prime}(t)\\right)^{2}} d t \\quad[2] .$\n",
    "\n",
    "- Results [1] and [2] are often written more concisely as $L=\\int_{a}^{b}\\left|\\overrightarrow{\\boldsymbol{r}}^{\\prime}(t)\\right| d t \\quad[3]$.\n",
    "\n",
    "Optional Further Reading: Arc length parameterization and curvature\n",
    "\n",
    "We have seen that a given curve many be parameterized many different ways, and that the parameterization affects the speed at which the curve is traversed. Arc length parameterization is a special type of parameterization such that the curve is traversed at unit speed (that is, for every unit increase in the parameter we travel one unit of distance along the curve). Such parameterisations can also be used to calculate the curvature of a curve at a point: the rate at which the curve (and its tangent vector) changes direction at that point. For more details see Thomas 13.4."
   ]
  },
  {
   "cell_type": "markdown",
   "metadata": {},
   "source": [
    "## Line Integrals of Scalar Fields (with respect to arc length)\n",
    "\n",
    "If $f(x, y, z)$ is defined on a smooth curve $C \\subset R^{3}$ then the line integral of $f$ along $C$ is $\\int_{C} f(x, y, z) d s$\n",
    "\n",
    "Line integrals of scalar fields are evaluated in a similar way to arc length integrals. e.g. For a 3D curve $\\overrightarrow{\\boldsymbol{r}}(t)=\\langle f(t), g(t), h(t)\\rangle, a \\leq t \\leq b$, we have\n",
    "\n",
    "$$\n",
    "\\int_{C} f d s=\\int_{a}^{b} f(x, y, z)\\left|\\overrightarrow{\\boldsymbol{r}}^{\\prime}(t)\\right| d t=\\int_{a}^{b} f(x, y, z) \\sqrt{\\left(f^{\\prime}(t)\\right)^{2}+\\left(g^{\\prime}(t)\\right)^{2}+\\left(h^{\\prime}(t)\\right)^{2}} d t .\n",
    "$$\n",
    "\n",
    "Hence to evaluate a line integral, the first step is often to parameterize the curve.\n",
    "\n",
    "If $C$ is a piecewise smooth curve, i.e. it is composed of a finite number of smooth curves $C_{1}, C_{2}, \\ldots, C_{n}$ linked end to end, then $\\int_{C} f d s=\\int_{C_{1}} f d s+\\int_{C_{2}} f d s+\\ldots+\\int_{C_{n}} f d s$.\n",
    "\n",
    "**An application**\n",
    "\n",
    "$\\quad$ Suppose we have a thin wire shaped like a curve $C$ in the $x y$-plane and that its density at $(x, y)$ is $\\rho(x, y)$.\n",
    "\n",
    "Length element $d s$ at $(x, y)$ has mass $d m=\\rho(x, y) d s$.\n",
    "\n",
    "So the mass of the whole wire is $m=\\int_{C} d m=\\int_{C} \\rho(x, y) d s$\n",
    "\n",
    "The center of mass of the wire is located at $(\\bar{x}, \\bar{y})$, where\n",
    "\n",
    "$$\n",
    "\\bar{x}=\\frac{1}{m} \\int_{C} x \\rho(x, y) d s, \\quad \\bar{y}=\\frac{1}{m} \\int_{C} y \\rho(x, y) d s .\n",
    "$$\n",
    "\n",
    "These three integrals are examples of line integrals of scalar fields.\n",
    "\n",
    "![img](../../../media/mvc/li/img2.png)"
   ]
  },
  {
   "cell_type": "markdown",
   "metadata": {},
   "source": []
  }
 ],
 "metadata": {
  "kernelspec": {
   "display_name": "Python 3.9.5 ('base')",
   "language": "python",
   "name": "python3"
  },
  "language_info": {
   "name": "python",
   "version": "3.9.5"
  },
  "orig_nbformat": 4,
  "vscode": {
   "interpreter": {
    "hash": "c96c929cd44cbfb83c61d0a24797df5d65008c381a130fe7ec7b20b72344b911"
   }
  }
 },
 "nbformat": 4,
 "nbformat_minor": 2
}
