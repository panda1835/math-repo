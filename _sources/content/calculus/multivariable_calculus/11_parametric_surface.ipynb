{
 "cells": [
  {
   "cell_type": "markdown",
   "metadata": {},
   "source": [
    "# Parametric Surfaces"
   ]
  },
  {
   "cell_type": "markdown",
   "metadata": {},
   "source": [
    "## Parametric Equations of a Surface\n",
    "\n",
    "- We know a curve can be defined by a parametric vector-valued function\n",
    "\n",
    "$$\n",
    "\\overrightarrow{\\boldsymbol{r}}(t)=\\langle f(t), g(t), h(t)\\rangle, \\quad t \\in[a, b] .\n",
    "$$\n",
    "\n",
    "- We know a 3D surface can be defined as graph of a function $z=f(x, y)$ or $F(x, y, z)=0$.\n",
    "\n",
    "- Surfaces can also be represented parametrically, but two parameters are needed: a surface can be defined as the range of a vector function of the form\n",
    "\n",
    "$$\n",
    "\\overrightarrow{\\boldsymbol{r}}(u, v)=\\langle f(u, v), g(u, v), h(u, v)\\rangle, \\quad(u, v) \\in D .\n",
    "$$\n",
    "\n",
    "![img](../../../media/mvc/ps/img1.png)"
   ]
  },
  {
   "cell_type": "markdown",
   "metadata": {},
   "source": [
    "## Some common parameterizations\n",
    "\n",
    "a) Any surface $z=f(x, y)$ may be expressed parametrically by taking $\\overrightarrow{\\boldsymbol{r}}(u, v)=\\langle u, v, f(u, v)\\rangle$. For example, for $z=x^{2}+y^{2}$ we can take $\\overrightarrow{\\boldsymbol{r}}(x, y)=\\left\\langle x, y, x^{2}+y^{2}\\right\\rangle$.\n",
    "\n",
    "b) The plane through the point with position vector $\\overrightarrow{\\boldsymbol{r}}_{0}$ and containing two non-parallel vectors $\\overrightarrow{\\boldsymbol{a}}$ and $\\overrightarrow{\\boldsymbol{b}}$ has parameterization $\\overrightarrow{\\boldsymbol{r}}(u, v)=\\overrightarrow{\\boldsymbol{r}}_{0}+u \\overrightarrow{\\boldsymbol{a}}+v \\overrightarrow{\\boldsymbol{b}}$.\n",
    "\n",
    "c) Cylindrical surfaces can be parameterized using cylindrical coordinates (or an adaptation of them.\n",
    "\n",
    "d) Consider a sphere of radius $a$ centred on the origin. In spherical coordinates the sphere has equation $\\rho=a$, and we can take $\\theta, \\phi$ as parameters, giving $\\overrightarrow{\\boldsymbol{r}}(\\theta, \\phi)=\\langle a \\sin \\phi \\cos \\theta, a \\sin \\phi \\sin \\theta, a \\cos \\phi\\rangle$."
   ]
  },
  {
   "cell_type": "markdown",
   "metadata": {},
   "source": [
    "## Surface Area\n",
    "\n",
    "Consider a 3D surface $S$ with vector equation\n",
    "\n",
    "$$\n",
    "\\mathbf{r}(u, v)=x(u, v) \\mathbf{i}+y(u, v) \\mathbf{j}+z(u, v) \\mathbf{k} \\quad(u, v) \\in D\n",
    "$$\n",
    "\n",
    "For simplicity, suppose the parameter domain $D$ is a rectangle. Divide it into a mesh of sub-rectangles $R_{i j}$ of dimensions $\\Delta u$ by $\\Delta v$. $S$ is correspondingly divided into a mesh of 'patches' $S_{i j}$, where $S_{i j}$ has area $\\Delta S_{i j}$.\n",
    "\n",
    "$$\n",
    "\\sum_{i=1}^{m} \\sum_{j=1}^{n} \\Delta S_{i j}\n",
    "$$\n",
    "\n",
    "Adding all the $\\Delta S_{i j}$ together gives an approximate value for the surface area:\n",
    "Taking the limit of this Riemann sum as the number of pieces in the mesh increases to infinity we get the surface area of $S$ :\n",
    "\n",
    "$$\n",
    "A=\\iint_{S} d S=\\lim _{m, n \\rightarrow 0} \\sum_{i=1}^{m} \\sum_{j=1}^{n} \\Delta S_{i j} .\n",
    "$$\n",
    "\n",
    "But what is the area element $d S$? \n",
    "\n",
    "![img](../../../media/mvc/ps/img2.png)"
   ]
  },
  {
   "cell_type": "markdown",
   "metadata": {},
   "source": [
    "## Normal vector and area element of a surface\n",
    "\n",
    "On $S$, consider point $P_{0}$ with position vector $\\mathbf{r}\\left(u_{0}, v_{0}\\right)$.\n",
    "\n",
    "The area element $d S$ at $P_{0}$ is a tiny parallelogram spanned by the vectors $\\mathbf{r}_{u} d u=\\frac{\\partial \\mathbf{r}}{\\partial u} d u$ and $\\mathbf{r}_{v} d v=\\frac{\\partial \\mathbf{r}}{\\partial v} d v \\quad$ evaluated at $\\left(u_{0}, v_{0}\\right)$.\n",
    "\n",
    "Hence\n",
    "\n",
    "$$\n",
    "d S=\\left|\\mathbf{r}_{u} \\times \\mathbf{r}_{v}\\right| d u d v=\\left|\\frac{\\partial \\mathbf{r}}{\\partial u} \\times \\frac{\\partial \\mathbf{r}}{\\partial v}\\right| d u d v\n",
    "$$\n",
    "\n",
    "And $A=\\iint_{S} d S=\\iint_{S}\\left|\\mathbf{r}_{u} \\times \\mathbf{r}_{v}\\right| d u d v$\n",
    "\n",
    "Note that this can alternatively be written as $d S=|\\mathbf{n}| d u d v$\n",
    "\n",
    "where $\\mathbf{n}$ is the normal to $S$ at $P_{0}$\n",
    "\n",
    "$$ \n",
    "\\quad \\mathbf{n}=\\left.\\frac{\\partial \\mathbf{r}}{\\partial u}\\right|_{\\left(u_{0}, v_{0}\\right)} \\times\\left.\\frac{\\partial \\mathbf{r}}{\\partial v}\\right|_{\\left(u_{0}, v_{0}\\right)}=\\mid \\begin{array}{ccc}\\mathbf{i} & \\mathbf{j} & \\mathbf{k} \\\\ \\frac{\\partial x}{\\partial u} & \\frac{\\partial y}{\\partial u} & \\frac{\\partial z}{\\partial u} \\\\ \\frac{\\partial x}{\\partial v} & \\frac{\\partial y}{\\partial v} & \\frac{\\partial z}{\\partial v}\\end{array}\n",
    "$$\n",
    "\n",
    "![img](../../../media/mvc/ps/img3.png)"
   ]
  },
  {
   "cell_type": "markdown",
   "metadata": {},
   "source": [
    "## Commonly used surface area elements\n",
    "\n",
    "a) For $z=g(x, y), d S=\\sqrt{\\left(\\frac{\\partial g}{\\partial x}\\right)^{2}+\\left(\\frac{\\partial g}{\\partial y}\\right)^{2}+1} d x d y$.\n",
    "\n",
    "b) On the surface of a cylinder of radius $a$ centred on the $z$-axis, $d S=a d \\theta d z$.\n",
    "\n",
    "c) On the surface of a sphere of radius $a, d S=a^{2} \\sin \\phi d \\theta d \\phi$."
   ]
  },
  {
   "cell_type": "markdown",
   "metadata": {},
   "source": [
    "## Surface Integrals of Scalar Fields\n",
    "\n",
    "Suppose that over a surface $S$ there is a scalar field $f(x, y, z)$.\n",
    "\n",
    "We can form a Riemann sum of $f$ on $S: \\sum_{i=1}^{m} \\sum_{j=1}^{n} f\\left(x_{i j}, y_{i j}, z_{i j}\\right) \\Delta S_{i j}$\n",
    "\n",
    "where $\\left(x_{i j}, y_{i j}, z_{i j}\\right)$ is an arbitrary point on $S_{i j}$.\n",
    "\n",
    "Taking the limit of the Riemann sum we get the surface integral of $f$ on $S$ :\n",
    "\n",
    "$$\n",
    "\\iint_{S} f(x, y, z) d S=\\lim _{m, n \\rightarrow 0} \\sum_{i=1}^{m} \\sum_{j=1}^{n} f\\left(x_{i j}, y_{i j}, z_{i j}\\right) \\Delta S_{i j}\n",
    "$$\n",
    "\n",
    "where $d S$ is defined as earlier.\n",
    "\n",
    "E.g. The total charge on a surface $S$ with surface charge density $\\sigma(x, y, z)$, is $Q=\\iint_{S} \\sigma(x, y, z) d S$"
   ]
  },
  {
   "cell_type": "markdown",
   "metadata": {},
   "source": []
  }
 ],
 "metadata": {
  "kernelspec": {
   "display_name": "Python 3.9.5 ('base')",
   "language": "python",
   "name": "python3"
  },
  "language_info": {
   "name": "python",
   "version": "3.9.5"
  },
  "orig_nbformat": 4,
  "vscode": {
   "interpreter": {
    "hash": "c96c929cd44cbfb83c61d0a24797df5d65008c381a130fe7ec7b20b72344b911"
   }
  }
 },
 "nbformat": 4,
 "nbformat_minor": 2
}
