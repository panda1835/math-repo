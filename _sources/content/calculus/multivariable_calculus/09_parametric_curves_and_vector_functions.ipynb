{
 "cells": [
  {
   "cell_type": "markdown",
   "metadata": {},
   "source": [
    "# Parametric Curves and Vector Functions"
   ]
  },
  {
   "cell_type": "markdown",
   "metadata": {},
   "source": [
    "## Parametric Curves in $R^{2}$\n",
    "\n",
    "If $x=f(t)$ and $y=g(t)$ over an interval $I$ of $t$-values, then the set of points $(x, y)=(f(t), g(t))$ defined by these equations is a parametric curve.\n",
    "\n",
    "- $t$ is the parameter, and its domain $I$ is the parameter interval.\n",
    "\n",
    "- $x=f(t)$ and $y=g(t)$ are parametric equations for the curve.\n",
    "\n",
    "- If $I$ is a closed interval, $a \\leq t \\leq b$, then $(f(a), g(a))$ is the initial point and $(f(b), g(b))$ is the terminal point of the curve.\n",
    "\n",
    "- A parametrization of a curve comprises parametric equations together with a parameter interval.\n",
    "\n",
    "- Note that a given curve can be represented by many different sets of parametric equations."
   ]
  },
  {
   "cell_type": "markdown",
   "metadata": {},
   "source": [
    "## Parametric Curves in $R^{3}$\n",
    "\n",
    "Similarly, a curve in $\\boldsymbol{R}^{3}$ can be described parametrically by\n",
    "\n",
    "$$\n",
    "x=f(t), \\quad y=g(t), \\quad z=h(t), \\quad t \\in I .\n",
    "$$"
   ]
  },
  {
   "cell_type": "markdown",
   "metadata": {},
   "source": [
    "## Vector-valued Functions\n",
    "\n",
    "A vector-valued function (or vector function) on a domain set $D$ of real numbers is a rule that assigns a vector in space to each element in $D$. The graph of a vector-valued function is the set of all terminal points of the output vectors with their initial points at the origin.\n",
    "\n",
    "For example, consider a particle moving in $\\boldsymbol{R}^{3}$ on a space curve $C$ with coordinates $(x, y, z)=$ $(f(t), g(t), h(t))$ at time $t$.\n",
    "\n",
    "- $x=f(t), y=g(t), z=h(t)$ are the parametric equations of the curve $C$.\n",
    "\n",
    "In this form, we visualize the curve as traced by a moving point $c(t)$.\n",
    "\n",
    "- $\\overrightarrow{\\boldsymbol{r}}(t)=\\langle f(t), g(t), h(t)\\rangle$ is the vector parameterization of $C$.\n",
    "\n",
    "In this form we visualize the curve as traced by the tip of a moving vector.\n",
    "\n",
    "- $f(t), g(t), h(t)$ are called the component functions of $\\overrightarrow{\\boldsymbol{r}}(\\mathrm{t})$.\n",
    "\n",
    "The domain of $\\overrightarrow{\\boldsymbol{r}}(t)$ is the set of values of $t$ for which $\\overrightarrow{\\boldsymbol{r}}(t)$ is defined."
   ]
  },
  {
   "cell_type": "markdown",
   "metadata": {},
   "source": [
    "## Limits \\& Continuity\n",
    "\n",
    "Consider a vector function $\\overrightarrow{\\boldsymbol{r}}(t)=\\langle f(t), g(t), h(t)\\rangle$.\n",
    "\n",
    "- The limit of $\\overrightarrow{\\boldsymbol{r}}(t)$ is found by taking the limits of the component functions (provided these limits exist):\n",
    "\n",
    "$$\n",
    "\\lim _{t \\rightarrow a} \\vec{r}(t)=\\left\\langle\\lim _{t \\rightarrow a} f(t), \\lim _{t \\rightarrow a} g(t), \\lim _{t \\rightarrow a} h(t)\\right\\rangle\n",
    "$$\n",
    "\n",
    "- $\\overrightarrow{\\boldsymbol{r}}(t)$ is continuous at $a$ if $\\lim _{t \\rightarrow a} \\vec{r}(t)=\\overrightarrow{\\boldsymbol{r}}(a)$.\n",
    "\n",
    "So $\\overrightarrow{\\boldsymbol{r}}(t)$ is continuous at $a$ if the component functions $f(t), g(t), h(t)$ are all continuous at $a$."
   ]
  },
  {
   "cell_type": "markdown",
   "metadata": {},
   "source": [
    "## Derivative of a Vector-valued Function\n",
    "\n",
    "The derivative of a vector-valued function $\\overrightarrow{\\boldsymbol{r}}(t)$ is defined to be:\n",
    "\n",
    "$$\n",
    "\\frac{d \\overrightarrow{\\boldsymbol{r}}}{d t}=\\overrightarrow{\\boldsymbol{r}}^{\\prime}(t)=\\lim _{h \\rightarrow 0} \\frac{\\overrightarrow{\\boldsymbol{r}}(t+h)-\\overrightarrow{\\boldsymbol{r}}(t)}{h}\n",
    "$$\n",
    "\n",
    "provided this limit exists."
   ]
  },
  {
   "cell_type": "markdown",
   "metadata": {},
   "source": [
    "## Component-wise Derivative\n",
    "\n",
    "Derivatives can be computed component-wise. For $\\overrightarrow{\\boldsymbol{r}}(t)=\\langle x(t), y(t), z(t)\\rangle$, we have\n",
    "\n",
    "$$\n",
    "\\overrightarrow{\\boldsymbol{r}}^{\\prime}(t)=\\lim _{h \\rightarrow 0} \\frac{\\overrightarrow{\\boldsymbol{r}}(t+h)-\\overrightarrow{\\boldsymbol{r}}(t)}{h}=\\lim _{h \\rightarrow 0}\\left\\langle\\frac{x(t+h)-x(t)}{h}, \\frac{y(t+h)-y(t)}{h}, \\frac{z(t+h)-z(t)}{h}\\right\\rangle .\n",
    "$$\n",
    "\n",
    "Hence:\n",
    "\n",
    "- a vector function $\\overrightarrow{\\boldsymbol{r}}(t)=x(t) \\mathbf{i}+y(t) \\mathbf{j}+z(t) \\mathbf{k}=\\langle x(t), y(t), z(t)\\rangle$ is differentiable if and only if its component functions are differentiable\n",
    "\n",
    "- in that case, $\\overrightarrow{\\boldsymbol{r}}^{\\prime}(t)=x^{\\prime}(t) \\mathbf{i}+y^{\\prime}(t) \\mathbf{j}+z^{\\prime}(t) \\mathbf{k}=\\left\\langle x^{\\prime}(t), y^{\\prime}(t), z^{\\prime}(t)\\right\\rangle$."
   ]
  },
  {
   "cell_type": "markdown",
   "metadata": {},
   "source": [
    "## Rules of Differentiation\n",
    "\n",
    "All the usual rules of differentiation also apply to vector functions. For example, for vector functions $\\overrightarrow{\\boldsymbol{u}}, \\overrightarrow{\\boldsymbol{v}}$, a scalar function $f$ and constant $c$ we have\n",
    "- $\\frac{d}{d t}[\\mathbf{u}(t)+\\mathbf{v}(t)]=\\mathbf{u}^{\\prime}(t)+\\mathbf{v}^{\\prime}(t)$\n",
    "  \n",
    "- $\\frac{d}{d t}[c \\mathbf{u}(t)]=c \\mathbf{u}^{\\prime}(t)$\n",
    "\n",
    "- $\\frac{d}{d t}[f(t) \\mathbf{u}(t)]=f^{\\prime}(t) \\mathbf{u}(t)+f(t) \\mathbf{u}^{\\prime}(t)$\n",
    "\n",
    "- $\\frac{d}{d t}[\\mathbf{u}(t) \\cdot \\mathbf{v}(t)]=\\mathbf{u}^{\\prime}(t) \\cdot \\mathbf{v}(t)+\\mathbf{u}(t) \\cdot \\mathbf{v}^{\\prime}(t)$\n",
    "\n",
    "- $\\frac{d}{d t}[\\mathbf{u}(t) \\times \\mathbf{v}(t)]=\\mathbf{u}^{\\prime}(t) \\times \\mathbf{v}(t)+\\mathbf{u}(t) \\times \\mathbf{v}^{\\prime}(t)$\n",
    "\n",
    "- $\\frac{d}{d t}[\\mathbf{u}(f(t))]=f^{\\prime}(t) \\mathbf{u}^{\\prime}(f(t))$"
   ]
  },
  {
   "cell_type": "markdown",
   "metadata": {},
   "source": [
    "The curve traced by $\\overrightarrow{\\boldsymbol{r}}(t)$ is smooth if $\\frac{d \\vec{r}}{d t}$ is continuous and never $\\overrightarrow{\\mathbf{0}}$, that is, if the component functions $x, y$, and $z$ have continuous first derivatives that are not simultaneously 0 ."
   ]
  },
  {
   "cell_type": "markdown",
   "metadata": {},
   "source": [
    "## Interpretations of $\\vec{r}^{\\prime}(t)$\n",
    "\n",
    "- If $\\overrightarrow{\\boldsymbol{r}}(t)$ represents the position of a particle at time $t$ then $\\overrightarrow{\\boldsymbol{r}}^{\\prime}(t)$ is its velocity, $\\left|\\overrightarrow{\\boldsymbol{r}}^{\\prime}(t)\\right|$ is its speed and $\\overrightarrow{\\boldsymbol{r}}^{\\prime \\prime}(t)$ is its acceleration.\n",
    "\n",
    "- For a space curve $\\overrightarrow{\\boldsymbol{r}}(t)$, the vector $\\overrightarrow{\\boldsymbol{r}}^{\\prime}\\left(t_{0}\\right)$ points in the direction of the tangent to the curve at the point $t=t_{0}$. It is therefore called the tangent vector (provided it exists and is non-zero). The tangent line to $\\overrightarrow{\\boldsymbol{r}}(t)$ at $t=t_{0}$ thus has vector equation $\\overrightarrow{\\boldsymbol{L}}(t)=\\overrightarrow{\\boldsymbol{r}}\\left(t_{0}\\right)+t \\overrightarrow{\\boldsymbol{r}}^{\\prime}\\left(t_{0}\\right)$."
   ]
  },
  {
   "cell_type": "markdown",
   "metadata": {},
   "source": [
    "## Integrating a vector-valued function \n",
    "\n",
    "If $\\overrightarrow{\\boldsymbol{r}}(t)=x(t) \\mathbf{i}+y(t) \\mathbf{j}+z(t) \\mathbf{k}$ then\n",
    "\n",
    "$$\n",
    "\\int_{a}^{b} \\overrightarrow{\\boldsymbol{r}}(t) d t=\\left(\\int_{a}^{b} x(t) d t\\right) \\mathbf{i}+\\left(\\int_{a}^{b} y(t) d t\\right) \\mathbf{j}+\\left(\\int_{a}^{b} z(t) d t\\right) \\mathbf{k}\n",
    "$$\n",
    "\n",
    "Note that an indefinite integral will yield a vector constant of integration, $\\vec{C}$."
   ]
  },
  {
   "cell_type": "markdown",
   "metadata": {},
   "source": []
  }
 ],
 "metadata": {
  "language_info": {
   "name": "python"
  },
  "orig_nbformat": 4
 },
 "nbformat": 4,
 "nbformat_minor": 2
}
