{
 "cells": [
  {
   "cell_type": "markdown",
   "metadata": {},
   "source": [
    "# Vector Fields & Line Integrals of Vector Fields"
   ]
  },
  {
   "cell_type": "markdown",
   "metadata": {},
   "source": [
    "## Scalar and Vector Fields: Definitions\n",
    "\n",
    "- Consider a function $f(x, y, z)$ where $x, y, z$ are coordinates in space. The function assigns a value of $f$ to every point in a 3D region; $f$ can be called a scalar field.\n",
    "\n",
    "- A $2 \\mathrm{D}$ vector field is a vector function $\\overrightarrow{\\boldsymbol{F}}$ that assigns to each point $(x, y)$ a $2 \\mathrm{D}$ region a $2 \\mathrm{D}$ vector $\\overrightarrow{\\boldsymbol{F}}(x, y)=M(x, y) \\mathbf{i}+N(x, y) \\mathbf{j}$.\n",
    "\n",
    "- A 3D vector field is a vector function $\\overrightarrow{\\boldsymbol{F}}$ that assigns to each point $(x, y, z)$ a 3D region $E$ a 3D vector $\\overrightarrow{\\boldsymbol{F}}(x, y, z)=M(x, y, z) \\mathbf{i}+N(x, y, z) \\mathbf{j}+P(x, y, z) \\mathbf{k}$.\n",
    "\n",
    "- The component functions $M, N, P$ are scalar fields.\n",
    "\n",
    "- A vector field may also be denoted $\\overrightarrow{\\boldsymbol{F}}(\\overrightarrow{\\boldsymbol{r}})$ where $\\overrightarrow{\\boldsymbol{r}}=\\langle x, y\\rangle\\left(\\right.$ in $\\left.\\boldsymbol{R}^{2}\\right)$ or $\\overrightarrow{\\boldsymbol{r}}=\\langle x, y, z\\rangle$ (in $\\boldsymbol{R}^{3}$ ) is the position vector of point $(x, y)$ or $(x, y, z)$ respectively.\n",
    "\n",
    "- Vector fields may be represented graphically by sketching some of these vectors. (Sometimes the lengths of the vectors are scaled.)"
   ]
  },
  {
   "cell_type": "markdown",
   "metadata": {},
   "source": [
    "## Gradient Fields\n",
    "\n",
    "Recall from PD3 that for a (scalar) function $f(x, y, z)$, the gradient vector is\n",
    "\n",
    "$$\n",
    "\\vec{\\nabla} f=\\operatorname{grad} f=\\left\\langle f_{x}, f_{y}, f_{z}\\right\\rangle=\\frac{\\partial f}{\\partial x} \\mathbf{i}+\\frac{\\partial f}{\\partial y} \\mathbf{j}+\\frac{\\partial f}{\\partial z} \\mathbf{k}\n",
    "$$\n",
    "\n",
    "and is orthogonal to the level surfaces $f(x, y, z)=k$. $\\vec{\\nabla} f$ is the gradient field of $f$."
   ]
  },
  {
   "cell_type": "markdown",
   "metadata": {},
   "source": [
    "## Work Done\n",
    "\n",
    "Suppose a force field $\\overrightarrow{\\boldsymbol{F}}(\\overrightarrow{\\boldsymbol{r}})=\\langle M(x, y, z), N(x, y, z), P(x, y, z)\\rangle$ moves a particle along a smooth curve $C$ defined by $\\overrightarrow{\\boldsymbol{r}}=\\langle x(t), y(t), z(t)\\rangle$.\n",
    "\n",
    "Consider a short element of $C$ at position $\\overrightarrow{\\boldsymbol{r}}$. The vector along this element is $d \\overrightarrow{\\boldsymbol{r}}$. The work done in moving the particle along this element is $d W=\\overrightarrow{\\boldsymbol{F}} \\cdot d \\overrightarrow{\\boldsymbol{r}}$.\n",
    "\n",
    "So the total work done by $\\overrightarrow{\\boldsymbol{F}}$ in moving the particle along $C$ is $W=\\int_{C} \\overrightarrow{\\boldsymbol{F}} \\cdot d \\overrightarrow{\\boldsymbol{r}}$.\n",
    "\n",
    "This is an example of a line integral of a vector field.\n",
    "\n",
    "Notes:\n",
    "\n",
    "1. Strictly speaking the vector line integral is the integral of the scalar tangential component of the vector field along the curve (see textbooks).\n",
    "\n",
    "2. The value depends on the orientation of the curve: If $C$ is the curve from $A$ to $B$ and we notate as $-C$ the curve from $B$ to $A$ then $\\int_{-C} \\overrightarrow{\\boldsymbol{F}} \\cdot d \\overrightarrow{\\boldsymbol{r}}=-\\int_{C} \\overrightarrow{\\boldsymbol{F}} \\cdot d \\overrightarrow{\\boldsymbol{r}}$\n",
    "\n",
    "3. A path can be divided into pieces: $\\quad \\int_{C_{1}+C_{2}} \\overrightarrow{\\boldsymbol{F}} \\cdot d \\overrightarrow{\\boldsymbol{r}}=\\int_{C_{1}} \\overrightarrow{\\boldsymbol{F}} \\cdot d \\overrightarrow{\\boldsymbol{r}}+\\int_{C_{2}} \\overrightarrow{\\boldsymbol{F}} \\cdot d \\overrightarrow{\\boldsymbol{r}}$"
   ]
  },
  {
   "cell_type": "markdown",
   "metadata": {},
   "source": [
    "## To evaluate the integral\n",
    "\n",
    "a) Find a parameterization $\\overrightarrow{\\boldsymbol{r}}(t)$ for the curve (if not given)\n",
    "\n",
    "b) Calculate $\\overrightarrow{\\boldsymbol{F}}, \\frac{d \\vec{r}}{d t}$ and $\\overrightarrow{\\boldsymbol{F}} \\cdot \\frac{d \\vec{r}}{d t}$ in terms of the parameter $t$.\n",
    "\n",
    "c) Evaluate the line integral in terms of the parameter $t: \\quad \\int_{C} \\overrightarrow{\\boldsymbol{F}} \\cdot d \\overrightarrow{\\boldsymbol{r}}=\\int_{C}\\left(\\overrightarrow{\\boldsymbol{F}} \\cdot \\frac{d \\overrightarrow{\\boldsymbol{r}}}{d t}\\right) d t$."
   ]
  },
  {
   "cell_type": "markdown",
   "metadata": {},
   "source": [
    "## Alternative Notation\n",
    "\n",
    "For $\\overrightarrow{\\boldsymbol{r}}=\\langle x(t), y(t), z(t)\\rangle$, we have $d \\overrightarrow{\\boldsymbol{r}}=\\langle d x, d y, d z\\rangle=\\left\\langle\\frac{d x}{d t}, \\frac{d y}{d t}, \\frac{d z}{d t}\\right\\rangle d t$, so\n",
    "\n",
    "$$\n",
    "W=\\int_{C} \\overrightarrow{\\boldsymbol{F}} \\cdot d \\overrightarrow{\\boldsymbol{r}}=\\int_{C}\\left(M \\frac{d x}{d t}+N \\frac{d y}{d t}+P \\frac{d z}{d t}\\right) d t=\\int_{C} M d x+N d y+P d z\n",
    "$$\n",
    "\n",
    "where the last step is a shorthand notation, and is known as the differential form of a line integral. "
   ]
  },
  {
   "cell_type": "markdown",
   "metadata": {},
   "source": [
    "## Further Definitions\n",
    "\n",
    "- A curve is oriented if we have chosen a direction of travel on it. When a curve is given parametrically (including as a vector-valued function), we assume we travel from the smallest to the largest allowed value of the parameter.\n",
    "\n",
    "- A closed curve (or loop) is an oriented curve that ends at the same point where it started.\n",
    "\n",
    "- The positive orientation of a closed curve $C$ is such that when we move along $C$, the region inside $C$ is on the left - see figure below.\n",
    "\n",
    "- A curve in $\\boldsymbol{R}^{2}$ is simple if it does not cross itself. (See figure below - from Thomas Fig. 16.23.)\n",
    "\n",
    "![img](../../../media/mvc/vf/img1.png)"
   ]
  },
  {
   "cell_type": "markdown",
   "metadata": {},
   "source": [
    "## Circulation\n",
    "\n",
    "- If $\\overrightarrow{\\boldsymbol{F}}$ represents the velocity field of a fluid flowing through a region in space then $\\int_{C} \\overrightarrow{\\boldsymbol{F}} \\cdot d \\overrightarrow{\\boldsymbol{r}}$ gives the flow of the fluid along path $C$.\n",
    "\n",
    "- A line integral around a closed curve is often notated $\\oint$.\n",
    "\n",
    "- On a closed path, $\\oint_{C} \\overrightarrow{\\boldsymbol{F}} \\cdot d \\overrightarrow{\\boldsymbol{r}}$ is called the circulation.\n",
    "\n",
    "Circulation serves as a measure of a vector field's tendency to rotate in a manner consistent with the orientation of the curve."
   ]
  },
  {
   "cell_type": "markdown",
   "metadata": {},
   "source": []
  }
 ],
 "metadata": {
  "kernelspec": {
   "display_name": "Python 3.9.5 ('base')",
   "language": "python",
   "name": "python3"
  },
  "language_info": {
   "name": "python",
   "version": "3.9.5"
  },
  "orig_nbformat": 4,
  "vscode": {
   "interpreter": {
    "hash": "c96c929cd44cbfb83c61d0a24797df5d65008c381a130fe7ec7b20b72344b911"
   }
  }
 },
 "nbformat": 4,
 "nbformat_minor": 2
}
