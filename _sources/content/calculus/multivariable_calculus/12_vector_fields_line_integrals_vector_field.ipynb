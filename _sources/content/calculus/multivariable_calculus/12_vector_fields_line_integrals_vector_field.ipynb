{
 "cells": [
  {
   "cell_type": "markdown",
   "metadata": {},
   "source": [
    "# Vector Fields & Line Integrals of Vector Fields"
   ]
  },
  {
   "cell_type": "markdown",
   "metadata": {},
   "source": []
  }
 ],
 "metadata": {
  "kernelspec": {
   "display_name": "Python 3.9.5 ('base')",
   "language": "python",
   "name": "python3"
  },
  "language_info": {
   "name": "python",
   "version": "3.9.5"
  },
  "orig_nbformat": 4,
  "vscode": {
   "interpreter": {
    "hash": "c96c929cd44cbfb83c61d0a24797df5d65008c381a130fe7ec7b20b72344b911"
   }
  }
 },
 "nbformat": 4,
 "nbformat_minor": 2
}
